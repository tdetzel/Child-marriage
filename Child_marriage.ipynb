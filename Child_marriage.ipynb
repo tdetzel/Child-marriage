{
 "cells": [
  {
   "cell_type": "markdown",
   "metadata": {},
   "source": [
    "### Child marriage data first look\n",
    "Turns out, this data is hyper-refined and difficult to work with."
   ]
  },
  {
   "cell_type": "code",
   "execution_count": 1,
   "metadata": {
    "collapsed": true
   },
   "outputs": [],
   "source": [
    "# load packages\n",
    "import numpy as np\n",
    "import pandas as pd\n",
    "import seaborn as sns\n",
    "PREVIOUS_MAX_ROWS = pd.options.display.max_rows\n",
    "pd.options.display.max_rows = 20\n",
    "np.random.seed(12345)\n",
    "import matplotlib.pyplot as plt\n",
    "plt.rc('figure', figsize=(15, 9))\n",
    "np.set_printoptions(precision=4, suppress=True)\n",
    "import pyreadstat # this reads in the spss file\n",
    "import warnings\n",
    "warnings.simplefilter(action='ignore', category=FutureWarning)"
   ]
  },
  {
   "cell_type": "markdown",
   "metadata": {},
   "source": [
    "#### Load wm.sav\n",
    "This returns a pandas dataframe and a file with metadata from spss. It's confusing because some of the boolean (true/valse) variables come in as numeric data types (0.0 and 1.0), and other categorical variables read as object data types. "
   ]
  },
  {
   "cell_type": "code",
   "execution_count": 2,
   "metadata": {},
   "outputs": [],
   "source": [
    "# apply_value_formats is by default False, so you have to set it to True manually if you want the labels\n",
    "# formats_as_category is by default True, and it means the replaced values will be transformed to a pandas category column.\n",
    "# df2, meta = pyreadstat.read_sav(\"wm.sav\", apply_value_formats=False, formats_as_category=True)"
   ]
  },
  {
   "cell_type": "code",
   "execution_count": 3,
   "metadata": {},
   "outputs": [],
   "source": [
    "df2, meta2 = pyreadstat.read_sav('wm.sav')"
   ]
  },
  {
   "cell_type": "code",
   "execution_count": 4,
   "metadata": {},
   "outputs": [
    {
     "data": {
      "text/html": [
       "<div>\n",
       "<style scoped>\n",
       "    .dataframe tbody tr th:only-of-type {\n",
       "        vertical-align: middle;\n",
       "    }\n",
       "\n",
       "    .dataframe tbody tr th {\n",
       "        vertical-align: top;\n",
       "    }\n",
       "\n",
       "    .dataframe thead th {\n",
       "        text-align: right;\n",
       "    }\n",
       "</style>\n",
       "<table border=\"1\" class=\"dataframe\">\n",
       "  <thead>\n",
       "    <tr style=\"text-align: right;\">\n",
       "      <th></th>\n",
       "      <th>HH1</th>\n",
       "      <th>HH2</th>\n",
       "      <th>LN</th>\n",
       "      <th>WM1</th>\n",
       "      <th>WM2</th>\n",
       "      <th>WM4</th>\n",
       "      <th>WM5</th>\n",
       "      <th>WM6D</th>\n",
       "      <th>WM6M</th>\n",
       "      <th>WM6Y</th>\n",
       "      <th>...</th>\n",
       "      <th>CDEAD</th>\n",
       "      <th>welevel</th>\n",
       "      <th>religion</th>\n",
       "      <th>wmweight</th>\n",
       "      <th>wscore</th>\n",
       "      <th>windex5</th>\n",
       "      <th>wscoreu</th>\n",
       "      <th>windex5u</th>\n",
       "      <th>wscorer</th>\n",
       "      <th>windex5r</th>\n",
       "    </tr>\n",
       "  </thead>\n",
       "  <tbody>\n",
       "    <tr>\n",
       "      <th>0</th>\n",
       "      <td>1.0</td>\n",
       "      <td>1.0</td>\n",
       "      <td>2.0</td>\n",
       "      <td>1.0</td>\n",
       "      <td>1.0</td>\n",
       "      <td>2.0</td>\n",
       "      <td>117.0</td>\n",
       "      <td>14.0</td>\n",
       "      <td>2.0</td>\n",
       "      <td>2013.0</td>\n",
       "      <td>...</td>\n",
       "      <td>0.0</td>\n",
       "      <td>1.0</td>\n",
       "      <td>1.0</td>\n",
       "      <td>0.468799</td>\n",
       "      <td>-0.588731</td>\n",
       "      <td>2.0</td>\n",
       "      <td>-1.038469</td>\n",
       "      <td>1.0</td>\n",
       "      <td>NaN</td>\n",
       "      <td>NaN</td>\n",
       "    </tr>\n",
       "    <tr>\n",
       "      <th>1</th>\n",
       "      <td>1.0</td>\n",
       "      <td>2.0</td>\n",
       "      <td>2.0</td>\n",
       "      <td>1.0</td>\n",
       "      <td>2.0</td>\n",
       "      <td>2.0</td>\n",
       "      <td>117.0</td>\n",
       "      <td>14.0</td>\n",
       "      <td>2.0</td>\n",
       "      <td>2013.0</td>\n",
       "      <td>...</td>\n",
       "      <td>0.0</td>\n",
       "      <td>2.0</td>\n",
       "      <td>1.0</td>\n",
       "      <td>0.468799</td>\n",
       "      <td>1.525888</td>\n",
       "      <td>5.0</td>\n",
       "      <td>0.474476</td>\n",
       "      <td>3.0</td>\n",
       "      <td>NaN</td>\n",
       "      <td>NaN</td>\n",
       "    </tr>\n",
       "    <tr>\n",
       "      <th>2</th>\n",
       "      <td>1.0</td>\n",
       "      <td>3.0</td>\n",
       "      <td>2.0</td>\n",
       "      <td>1.0</td>\n",
       "      <td>3.0</td>\n",
       "      <td>2.0</td>\n",
       "      <td>117.0</td>\n",
       "      <td>14.0</td>\n",
       "      <td>2.0</td>\n",
       "      <td>2013.0</td>\n",
       "      <td>...</td>\n",
       "      <td>0.0</td>\n",
       "      <td>5.0</td>\n",
       "      <td>1.0</td>\n",
       "      <td>0.468799</td>\n",
       "      <td>-0.104456</td>\n",
       "      <td>3.0</td>\n",
       "      <td>-0.691985</td>\n",
       "      <td>2.0</td>\n",
       "      <td>NaN</td>\n",
       "      <td>NaN</td>\n",
       "    </tr>\n",
       "    <tr>\n",
       "      <th>3</th>\n",
       "      <td>1.0</td>\n",
       "      <td>4.0</td>\n",
       "      <td>2.0</td>\n",
       "      <td>1.0</td>\n",
       "      <td>4.0</td>\n",
       "      <td>2.0</td>\n",
       "      <td>117.0</td>\n",
       "      <td>14.0</td>\n",
       "      <td>2.0</td>\n",
       "      <td>2013.0</td>\n",
       "      <td>...</td>\n",
       "      <td>0.0</td>\n",
       "      <td>1.0</td>\n",
       "      <td>1.0</td>\n",
       "      <td>0.468799</td>\n",
       "      <td>-1.203440</td>\n",
       "      <td>1.0</td>\n",
       "      <td>-1.478274</td>\n",
       "      <td>1.0</td>\n",
       "      <td>NaN</td>\n",
       "      <td>NaN</td>\n",
       "    </tr>\n",
       "    <tr>\n",
       "      <th>4</th>\n",
       "      <td>1.0</td>\n",
       "      <td>4.0</td>\n",
       "      <td>3.0</td>\n",
       "      <td>1.0</td>\n",
       "      <td>4.0</td>\n",
       "      <td>3.0</td>\n",
       "      <td>117.0</td>\n",
       "      <td>14.0</td>\n",
       "      <td>2.0</td>\n",
       "      <td>2013.0</td>\n",
       "      <td>...</td>\n",
       "      <td>0.0</td>\n",
       "      <td>2.0</td>\n",
       "      <td>1.0</td>\n",
       "      <td>0.468799</td>\n",
       "      <td>-1.203440</td>\n",
       "      <td>1.0</td>\n",
       "      <td>-1.478274</td>\n",
       "      <td>1.0</td>\n",
       "      <td>NaN</td>\n",
       "      <td>NaN</td>\n",
       "    </tr>\n",
       "  </tbody>\n",
       "</table>\n",
       "<p>5 rows × 235 columns</p>\n",
       "</div>"
      ],
      "text/plain": [
       "   HH1  HH2   LN  WM1  WM2  WM4    WM5  WM6D  WM6M    WM6Y    ...     CDEAD  \\\n",
       "0  1.0  1.0  2.0  1.0  1.0  2.0  117.0  14.0   2.0  2013.0    ...       0.0   \n",
       "1  1.0  2.0  2.0  1.0  2.0  2.0  117.0  14.0   2.0  2013.0    ...       0.0   \n",
       "2  1.0  3.0  2.0  1.0  3.0  2.0  117.0  14.0   2.0  2013.0    ...       0.0   \n",
       "3  1.0  4.0  2.0  1.0  4.0  2.0  117.0  14.0   2.0  2013.0    ...       0.0   \n",
       "4  1.0  4.0  3.0  1.0  4.0  3.0  117.0  14.0   2.0  2013.0    ...       0.0   \n",
       "\n",
       "   welevel  religion  wmweight    wscore  windex5   wscoreu  windex5u  \\\n",
       "0      1.0       1.0  0.468799 -0.588731      2.0 -1.038469       1.0   \n",
       "1      2.0       1.0  0.468799  1.525888      5.0  0.474476       3.0   \n",
       "2      5.0       1.0  0.468799 -0.104456      3.0 -0.691985       2.0   \n",
       "3      1.0       1.0  0.468799 -1.203440      1.0 -1.478274       1.0   \n",
       "4      2.0       1.0  0.468799 -1.203440      1.0 -1.478274       1.0   \n",
       "\n",
       "   wscorer  windex5r  \n",
       "0      NaN       NaN  \n",
       "1      NaN       NaN  \n",
       "2      NaN       NaN  \n",
       "3      NaN       NaN  \n",
       "4      NaN       NaN  \n",
       "\n",
       "[5 rows x 235 columns]"
      ]
     },
     "execution_count": 4,
     "metadata": {},
     "output_type": "execute_result"
    }
   ],
   "source": [
    "df2.head()"
   ]
  },
  {
   "cell_type": "code",
   "execution_count": 5,
   "metadata": {},
   "outputs": [],
   "source": [
    "# save column labels for reference later\n",
    "col_labels = meta2.column_labels"
   ]
  },
  {
   "cell_type": "code",
   "execution_count": 6,
   "metadata": {
    "collapsed": true
   },
   "outputs": [],
   "source": [
    "# replace the column names with column labels\n",
    "# df2.columns = meta2.column_labels\n",
    "# to go back to column names\n",
    "# df2.columns = meta2.column_names"
   ]
  },
  {
   "cell_type": "code",
   "execution_count": 7,
   "metadata": {},
   "outputs": [
    {
     "data": {
      "text/html": [
       "<div>\n",
       "<style scoped>\n",
       "    .dataframe tbody tr th:only-of-type {\n",
       "        vertical-align: middle;\n",
       "    }\n",
       "\n",
       "    .dataframe tbody tr th {\n",
       "        vertical-align: top;\n",
       "    }\n",
       "\n",
       "    .dataframe thead th {\n",
       "        text-align: right;\n",
       "    }\n",
       "</style>\n",
       "<table border=\"1\" class=\"dataframe\">\n",
       "  <thead>\n",
       "    <tr style=\"text-align: right;\">\n",
       "      <th></th>\n",
       "      <th>HH1</th>\n",
       "      <th>HH2</th>\n",
       "      <th>LN</th>\n",
       "      <th>WM1</th>\n",
       "      <th>WM2</th>\n",
       "      <th>WM4</th>\n",
       "      <th>WM5</th>\n",
       "      <th>WM6D</th>\n",
       "      <th>WM6M</th>\n",
       "      <th>WM6Y</th>\n",
       "      <th>...</th>\n",
       "      <th>CDEAD</th>\n",
       "      <th>welevel</th>\n",
       "      <th>religion</th>\n",
       "      <th>wmweight</th>\n",
       "      <th>wscore</th>\n",
       "      <th>windex5</th>\n",
       "      <th>wscoreu</th>\n",
       "      <th>windex5u</th>\n",
       "      <th>wscorer</th>\n",
       "      <th>windex5r</th>\n",
       "    </tr>\n",
       "  </thead>\n",
       "  <tbody>\n",
       "    <tr>\n",
       "      <th>0</th>\n",
       "      <td>1.0</td>\n",
       "      <td>1.0</td>\n",
       "      <td>2.0</td>\n",
       "      <td>1.0</td>\n",
       "      <td>1.0</td>\n",
       "      <td>2.0</td>\n",
       "      <td>117.0</td>\n",
       "      <td>14.0</td>\n",
       "      <td>2.0</td>\n",
       "      <td>2013.0</td>\n",
       "      <td>...</td>\n",
       "      <td>0.0</td>\n",
       "      <td>1.0</td>\n",
       "      <td>1.0</td>\n",
       "      <td>0.468799</td>\n",
       "      <td>-0.588731</td>\n",
       "      <td>2.0</td>\n",
       "      <td>-1.038469</td>\n",
       "      <td>1.0</td>\n",
       "      <td>NaN</td>\n",
       "      <td>NaN</td>\n",
       "    </tr>\n",
       "    <tr>\n",
       "      <th>1</th>\n",
       "      <td>1.0</td>\n",
       "      <td>2.0</td>\n",
       "      <td>2.0</td>\n",
       "      <td>1.0</td>\n",
       "      <td>2.0</td>\n",
       "      <td>2.0</td>\n",
       "      <td>117.0</td>\n",
       "      <td>14.0</td>\n",
       "      <td>2.0</td>\n",
       "      <td>2013.0</td>\n",
       "      <td>...</td>\n",
       "      <td>0.0</td>\n",
       "      <td>2.0</td>\n",
       "      <td>1.0</td>\n",
       "      <td>0.468799</td>\n",
       "      <td>1.525888</td>\n",
       "      <td>5.0</td>\n",
       "      <td>0.474476</td>\n",
       "      <td>3.0</td>\n",
       "      <td>NaN</td>\n",
       "      <td>NaN</td>\n",
       "    </tr>\n",
       "    <tr>\n",
       "      <th>2</th>\n",
       "      <td>1.0</td>\n",
       "      <td>3.0</td>\n",
       "      <td>2.0</td>\n",
       "      <td>1.0</td>\n",
       "      <td>3.0</td>\n",
       "      <td>2.0</td>\n",
       "      <td>117.0</td>\n",
       "      <td>14.0</td>\n",
       "      <td>2.0</td>\n",
       "      <td>2013.0</td>\n",
       "      <td>...</td>\n",
       "      <td>0.0</td>\n",
       "      <td>5.0</td>\n",
       "      <td>1.0</td>\n",
       "      <td>0.468799</td>\n",
       "      <td>-0.104456</td>\n",
       "      <td>3.0</td>\n",
       "      <td>-0.691985</td>\n",
       "      <td>2.0</td>\n",
       "      <td>NaN</td>\n",
       "      <td>NaN</td>\n",
       "    </tr>\n",
       "    <tr>\n",
       "      <th>3</th>\n",
       "      <td>1.0</td>\n",
       "      <td>4.0</td>\n",
       "      <td>2.0</td>\n",
       "      <td>1.0</td>\n",
       "      <td>4.0</td>\n",
       "      <td>2.0</td>\n",
       "      <td>117.0</td>\n",
       "      <td>14.0</td>\n",
       "      <td>2.0</td>\n",
       "      <td>2013.0</td>\n",
       "      <td>...</td>\n",
       "      <td>0.0</td>\n",
       "      <td>1.0</td>\n",
       "      <td>1.0</td>\n",
       "      <td>0.468799</td>\n",
       "      <td>-1.203440</td>\n",
       "      <td>1.0</td>\n",
       "      <td>-1.478274</td>\n",
       "      <td>1.0</td>\n",
       "      <td>NaN</td>\n",
       "      <td>NaN</td>\n",
       "    </tr>\n",
       "    <tr>\n",
       "      <th>4</th>\n",
       "      <td>1.0</td>\n",
       "      <td>4.0</td>\n",
       "      <td>3.0</td>\n",
       "      <td>1.0</td>\n",
       "      <td>4.0</td>\n",
       "      <td>3.0</td>\n",
       "      <td>117.0</td>\n",
       "      <td>14.0</td>\n",
       "      <td>2.0</td>\n",
       "      <td>2013.0</td>\n",
       "      <td>...</td>\n",
       "      <td>0.0</td>\n",
       "      <td>2.0</td>\n",
       "      <td>1.0</td>\n",
       "      <td>0.468799</td>\n",
       "      <td>-1.203440</td>\n",
       "      <td>1.0</td>\n",
       "      <td>-1.478274</td>\n",
       "      <td>1.0</td>\n",
       "      <td>NaN</td>\n",
       "      <td>NaN</td>\n",
       "    </tr>\n",
       "  </tbody>\n",
       "</table>\n",
       "<p>5 rows × 235 columns</p>\n",
       "</div>"
      ],
      "text/plain": [
       "   HH1  HH2   LN  WM1  WM2  WM4    WM5  WM6D  WM6M    WM6Y    ...     CDEAD  \\\n",
       "0  1.0  1.0  2.0  1.0  1.0  2.0  117.0  14.0   2.0  2013.0    ...       0.0   \n",
       "1  1.0  2.0  2.0  1.0  2.0  2.0  117.0  14.0   2.0  2013.0    ...       0.0   \n",
       "2  1.0  3.0  2.0  1.0  3.0  2.0  117.0  14.0   2.0  2013.0    ...       0.0   \n",
       "3  1.0  4.0  2.0  1.0  4.0  2.0  117.0  14.0   2.0  2013.0    ...       0.0   \n",
       "4  1.0  4.0  3.0  1.0  4.0  3.0  117.0  14.0   2.0  2013.0    ...       0.0   \n",
       "\n",
       "   welevel  religion  wmweight    wscore  windex5   wscoreu  windex5u  \\\n",
       "0      1.0       1.0  0.468799 -0.588731      2.0 -1.038469       1.0   \n",
       "1      2.0       1.0  0.468799  1.525888      5.0  0.474476       3.0   \n",
       "2      5.0       1.0  0.468799 -0.104456      3.0 -0.691985       2.0   \n",
       "3      1.0       1.0  0.468799 -1.203440      1.0 -1.478274       1.0   \n",
       "4      2.0       1.0  0.468799 -1.203440      1.0 -1.478274       1.0   \n",
       "\n",
       "   wscorer  windex5r  \n",
       "0      NaN       NaN  \n",
       "1      NaN       NaN  \n",
       "2      NaN       NaN  \n",
       "3      NaN       NaN  \n",
       "4      NaN       NaN  \n",
       "\n",
       "[5 rows x 235 columns]"
      ]
     },
     "execution_count": 7,
     "metadata": {},
     "output_type": "execute_result"
    }
   ],
   "source": [
    "df2.head()\n",
    "# print(meta2.colum_names)\n",
    "# print(meta2.column_labels)\n",
    "# print(meta2.number_rows)\n",
    "# print(meta2.number_columns)\n",
    "# print(meta2.file_label)\n",
    "# print(meta2.file_encoding)\n",
    "# there are other metadata pieces extracted. See the documentation for more details."
   ]
  },
  {
   "cell_type": "code",
   "execution_count": 8,
   "metadata": {},
   "outputs": [
    {
     "name": "stdout",
     "output_type": "stream",
     "text": [
      "UTF-8\n"
     ]
    }
   ],
   "source": [
    "print(meta2.file_encoding)"
   ]
  },
  {
   "cell_type": "code",
   "execution_count": 9,
   "metadata": {},
   "outputs": [
    {
     "name": "stdout",
     "output_type": "stream",
     "text": [
      "<class 'pandas.core.frame.DataFrame'>\n",
      "RangeIndex: 59599 entries, 0 to 59598\n",
      "Columns: 235 entries, HH1 to windex5r\n",
      "dtypes: float64(160), object(75)\n",
      "memory usage: 106.9+ MB\n"
     ]
    }
   ],
   "source": [
    "df2.info()"
   ]
  },
  {
   "cell_type": "markdown",
   "metadata": {},
   "source": [
    "#### Categorical (object) variables"
   ]
  },
  {
   "cell_type": "code",
   "execution_count": 10,
   "metadata": {
    "scrolled": true
   },
   "outputs": [
    {
     "name": "stdout",
     "output_type": "stream",
     "text": [
      "<class 'pandas.core.frame.DataFrame'>\n",
      "RangeIndex: 59599 entries, 0 to 59598\n",
      "Data columns (total 75 columns):\n",
      "CM13     59599 non-null object\n",
      "MN2A     59599 non-null object\n",
      "MN2B     59599 non-null object\n",
      "MN2C     59599 non-null object\n",
      "MN2F     59599 non-null object\n",
      "MN2G     59599 non-null object\n",
      "MN2X     59599 non-null object\n",
      "MN17A    59599 non-null object\n",
      "MN17B    59599 non-null object\n",
      "MN17C    59599 non-null object\n",
      "MN17F    59599 non-null object\n",
      "MN17G    59599 non-null object\n",
      "MN17H    59599 non-null object\n",
      "MN17X    59599 non-null object\n",
      "MN17Y    59599 non-null object\n",
      "MN27A    59599 non-null object\n",
      "MN27B    59599 non-null object\n",
      "MN27C    59599 non-null object\n",
      "MN27D    59599 non-null object\n",
      "MN27E    59599 non-null object\n",
      "MN27F    59599 non-null object\n",
      "MN27G    59599 non-null object\n",
      "MN27H    59599 non-null object\n",
      "MN27I    59599 non-null object\n",
      "MN27X    59599 non-null object\n",
      "PN13A    59599 non-null object\n",
      "PN13B    59599 non-null object\n",
      "PN13C    59599 non-null object\n",
      "PN13F    59599 non-null object\n",
      "PN13G    59599 non-null object\n",
      "PN13H    59599 non-null object\n",
      "PN13X    59599 non-null object\n",
      "PN22A    59599 non-null object\n",
      "PN22B    59599 non-null object\n",
      "PN22C    59599 non-null object\n",
      "PN22F    59599 non-null object\n",
      "PN22G    59599 non-null object\n",
      "PN22H    59599 non-null object\n",
      "PN22X    59599 non-null object\n",
      "CP3A     59599 non-null object\n",
      "CP3B     59599 non-null object\n",
      "CP3C     59599 non-null object\n",
      "CP3D     59599 non-null object\n",
      "CP3E     59599 non-null object\n",
      "CP3F     59599 non-null object\n",
      "CP3G     59599 non-null object\n",
      "CP3H     59599 non-null object\n",
      "CP3I     59599 non-null object\n",
      "CP3J     59599 non-null object\n",
      "CP3K     59599 non-null object\n",
      "CP3L     59599 non-null object\n",
      "CP3M     59599 non-null object\n",
      "CP3X     59599 non-null object\n",
      "UN11A    59599 non-null object\n",
      "UN11B    59599 non-null object\n",
      "UN11C    59599 non-null object\n",
      "UN11D    59599 non-null object\n",
      "UN11E    59599 non-null object\n",
      "UN11F    59599 non-null object\n",
      "UN11G    59599 non-null object\n",
      "UN11H    59599 non-null object\n",
      "UN11I    59599 non-null object\n",
      "UN11X    59599 non-null object\n",
      "UN11Z    59599 non-null object\n",
      "IS2A     59599 non-null object\n",
      "IS2B     59599 non-null object\n",
      "IS2C     59599 non-null object\n",
      "IS2D     59599 non-null object\n",
      "IS2E     59599 non-null object\n",
      "IS2F     59599 non-null object\n",
      "IS2G     59599 non-null object\n",
      "IS2H     59599 non-null object\n",
      "IS2X     59599 non-null object\n",
      "IS2Y     59599 non-null object\n",
      "IS2Z     59599 non-null object\n",
      "dtypes: object(75)\n",
      "memory usage: 34.1+ MB\n"
     ]
    }
   ],
   "source": [
    "df2.select_dtypes(include='object').info()"
   ]
  },
  {
   "cell_type": "markdown",
   "metadata": {},
   "source": [
    "#### Missing data\n",
    "Code below calculates the percent of NaN data in each variable, but unfortunately it's not counting all the empty cells in variables of type object. See below. Apparently NaN only registers in numeric variables."
   ]
  },
  {
   "cell_type": "code",
   "execution_count": 11,
   "metadata": {},
   "outputs": [
    {
     "data": {
      "text/plain": [
       "HH1         0.000000\n",
       "HH2         0.000000\n",
       "LN          0.000000\n",
       "WM1         0.000000\n",
       "WM2         0.000000\n",
       "WM4         0.000000\n",
       "WM5         0.000000\n",
       "WM6D        0.000000\n",
       "WM6M        0.000000\n",
       "WM6Y        0.000000\n",
       "              ...   \n",
       "CDEAD       0.131009\n",
       "welevel     0.131009\n",
       "religion    0.000000\n",
       "wmweight    0.000000\n",
       "wscore      0.000000\n",
       "windex5     0.000000\n",
       "wscoreu     0.718804\n",
       "windex5u    0.718804\n",
       "wscorer     0.150187\n",
       "windex5r    0.150187\n",
       "Length: 235, dtype: float64"
      ]
     },
     "execution_count": 11,
     "metadata": {},
     "output_type": "execute_result"
    }
   ],
   "source": [
    "# percent missing NaN\n",
    "(df2.shape[0]-df2.count())/59599"
   ]
  },
  {
   "cell_type": "code",
   "execution_count": 12,
   "metadata": {},
   "outputs": [
    {
     "data": {
      "text/plain": [
       "0.13100890954546218"
      ]
     },
     "execution_count": 12,
     "metadata": {},
     "output_type": "execute_result"
    }
   ],
   "source": [
    "np.count_nonzero(df2['welevel'].isnull())/59599"
   ]
  },
  {
   "cell_type": "markdown",
   "metadata": {},
   "source": [
    "#### Example numeric var\n",
    "NaNs are counted here."
   ]
  },
  {
   "cell_type": "code",
   "execution_count": 13,
   "metadata": {},
   "outputs": [
    {
     "data": {
      "text/plain": [
       " 0.0     44457\n",
       "NaN       7808\n",
       " 1.0      5387\n",
       " 2.0      1342\n",
       " 3.0       419\n",
       " 4.0       114\n",
       " 5.0        39\n",
       " 6.0        17\n",
       " 7.0         9\n",
       " 8.0         3\n",
       " 10.0        2\n",
       " 9.0         2\n",
       "Name: CDEAD, dtype: int64"
      ]
     },
     "execution_count": 13,
     "metadata": {},
     "output_type": "execute_result"
    }
   ],
   "source": [
    "df2['CDEAD'].value_counts(dropna=False)"
   ]
  },
  {
   "cell_type": "markdown",
   "metadata": {},
   "source": [
    "#### Example object var\n",
    "NaNs are blank or empty."
   ]
  },
  {
   "cell_type": "code",
   "execution_count": 14,
   "metadata": {},
   "outputs": [
    {
     "data": {
      "text/plain": [
       "     55609\n",
       "A     3988\n",
       "?        2\n",
       "Name: MN2A, dtype: int64"
      ]
     },
     "execution_count": 14,
     "metadata": {},
     "output_type": "execute_result"
    }
   ],
   "source": [
    "# Antenatal care: Doctor\n",
    "df2['MN2A'].value_counts(dropna=False)"
   ]
  },
  {
   "cell_type": "code",
   "execution_count": 15,
   "metadata": {},
   "outputs": [
    {
     "data": {
      "text/plain": [
       "67"
      ]
     },
     "execution_count": 15,
     "metadata": {},
     "output_type": "execute_result"
    }
   ],
   "source": [
    "# get a colunm index value\n",
    "df2.columns.get_loc('MN2A')"
   ]
  },
  {
   "cell_type": "code",
   "execution_count": 16,
   "metadata": {},
   "outputs": [
    {
     "data": {
      "text/plain": [
       "     55609\n",
       "A     3988\n",
       "?        2\n",
       "Name: MN2A, dtype: int64"
      ]
     },
     "execution_count": 16,
     "metadata": {},
     "output_type": "execute_result"
    }
   ],
   "source": [
    "df2.iloc[:,67].value_counts(dropna=False)"
   ]
  },
  {
   "cell_type": "code",
   "execution_count": 17,
   "metadata": {},
   "outputs": [
    {
     "data": {
      "text/html": [
       "<div>\n",
       "<style scoped>\n",
       "    .dataframe tbody tr th:only-of-type {\n",
       "        vertical-align: middle;\n",
       "    }\n",
       "\n",
       "    .dataframe tbody tr th {\n",
       "        vertical-align: top;\n",
       "    }\n",
       "\n",
       "    .dataframe thead th {\n",
       "        text-align: right;\n",
       "    }\n",
       "</style>\n",
       "<table border=\"1\" class=\"dataframe\">\n",
       "  <thead>\n",
       "    <tr style=\"text-align: right;\">\n",
       "      <th></th>\n",
       "      <th>MN2A</th>\n",
       "      <th>MN2B</th>\n",
       "      <th>MN2C</th>\n",
       "      <th>MN2F</th>\n",
       "      <th>MN2G</th>\n",
       "      <th>MN2X</th>\n",
       "    </tr>\n",
       "  </thead>\n",
       "  <tbody>\n",
       "    <tr>\n",
       "      <th>0</th>\n",
       "      <td></td>\n",
       "      <td></td>\n",
       "      <td></td>\n",
       "      <td></td>\n",
       "      <td></td>\n",
       "      <td></td>\n",
       "    </tr>\n",
       "    <tr>\n",
       "      <th>1</th>\n",
       "      <td></td>\n",
       "      <td></td>\n",
       "      <td></td>\n",
       "      <td></td>\n",
       "      <td></td>\n",
       "      <td></td>\n",
       "    </tr>\n",
       "    <tr>\n",
       "      <th>2</th>\n",
       "      <td></td>\n",
       "      <td></td>\n",
       "      <td></td>\n",
       "      <td></td>\n",
       "      <td></td>\n",
       "      <td></td>\n",
       "    </tr>\n",
       "    <tr>\n",
       "      <th>3</th>\n",
       "      <td></td>\n",
       "      <td></td>\n",
       "      <td></td>\n",
       "      <td></td>\n",
       "      <td></td>\n",
       "      <td></td>\n",
       "    </tr>\n",
       "    <tr>\n",
       "      <th>4</th>\n",
       "      <td></td>\n",
       "      <td></td>\n",
       "      <td></td>\n",
       "      <td></td>\n",
       "      <td></td>\n",
       "      <td></td>\n",
       "    </tr>\n",
       "  </tbody>\n",
       "</table>\n",
       "</div>"
      ],
      "text/plain": [
       "  MN2A MN2B MN2C MN2F MN2G MN2X\n",
       "0                              \n",
       "1                              \n",
       "2                              \n",
       "3                              \n",
       "4                              "
      ]
     },
     "execution_count": 17,
     "metadata": {},
     "output_type": "execute_result"
    }
   ],
   "source": [
    "# access multiple columns\n",
    "df2.iloc[:, 67:73].head()"
   ]
  },
  {
   "cell_type": "markdown",
   "metadata": {},
   "source": [
    "### Name, label reference"
   ]
  },
  {
   "cell_type": "code",
   "execution_count": 18,
   "metadata": {},
   "outputs": [],
   "source": [
    "# df of var names and labels for future reference\n",
    "var_defs = pd.DataFrame(meta2.column_names, meta2.column_labels)\n",
    "var_defs.reset_index(inplace=True)\n",
    "var_defs.columns = ['Name', 'Label']"
   ]
  },
  {
   "cell_type": "code",
   "execution_count": 19,
   "metadata": {},
   "outputs": [
    {
     "name": "stdout",
     "output_type": "stream",
     "text": [
      "                                                  Name     Label\n",
      "0                                       Cluster number       HH1\n",
      "1                                     Household number       HH2\n",
      "2                                          Line number        LN\n",
      "3                                       Cluster number       WM1\n",
      "4                                     Household number       WM2\n",
      "5                                  Woman's line number       WM4\n",
      "6                                   Interviewer number       WM5\n",
      "7                                     Day of interview      WM6D\n",
      "8                                   Month of interview      WM6M\n",
      "9                                    Year of interview      WM6Y\n",
      "10                         Result of woman's interview       WM7\n",
      "11                                        Field editor       WM8\n",
      "12                                    Data entry clerk       WM9\n",
      "13                           Start of interview - Hour     WM10H\n",
      "14                        Start of interview - Minutes     WM10M\n",
      "15                             End of interview - Hour     WM11H\n",
      "16                          End of interview - Minutes     WM11M\n",
      "17                             Month of birth of woman      WB1M\n",
      "18                              Year of birth of woman      WB1Y\n",
      "19                                        Age of woman       WB2\n",
      "20                                Ever attended school       WB3\n",
      "21                Highest level of school you attended       WB4\n",
      "22               Highest grade completed at that level       WB5\n",
      "23                       Can read part of the sentence       WB7\n",
      "24          Frequency of reading newspaper or magazine       MT2\n",
      "25                 Frequency of listening to the radio       MT3\n",
      "26                            Frequency of watching TV       MT4\n",
      "27                                Ever used a computer       MT6\n",
      "28                Computer usage in the last 12 months       MT7\n",
      "29       Frequency of computer usage in the last month       MT8\n",
      "30                                  Ever used internet       MT9\n",
      "31                Internet usage in the last 12 months      MT10\n",
      "32       Frequency of Internet usage in the past month      MT11\n",
      "33                                   Currently married       MA1\n",
      "34                                      Age of husband       MA2\n",
      "35                             Husband has other wives       MA3\n",
      "36                               Number of other wives       MA4\n",
      "37                                        Ever married       MA5\n",
      "38                                      Marital status       MA6\n",
      "39                      Married once or more than once       MA7\n",
      "40                             Month of first marriage      MA8M\n",
      "41                              Year of first marriage      MA8Y\n",
      "42                               Age at first marriage       MA9\n",
      "43                                    Ever given birth       CM1\n",
      "44                                  Day of first birth      CM2D\n",
      "45                                Month of first birth      CM2M\n",
      "46                                 Year of first birth      CM2Y\n",
      "47                             Years since first birth       CM3\n",
      "48               Any sons or daughters living with you       CM4\n",
      "49                                Sons living with you      CM5A\n",
      "50                           Daughters living with you      CM5B\n",
      "51           Any sons or daughters not living with you       CM6\n",
      "52                               Sons living elsewhere      CM7A\n",
      "53                          Daughters living elsewhere      CM7B\n",
      "54                       Ever had child who later died       CM8\n",
      "55                                           Boys dead      CM9A\n",
      "56                                          Girls dead      CM9B\n",
      "57                                  Children ever born      CM10\n",
      "58                                   Day of last birth     CM12D\n",
      "59                                 Month of last birth     CM12M\n",
      "60                                  Year of last birth     CM12Y\n",
      "61                        Last birth in last two years      CM13\n",
      "62                              Wanted last child then       DB1\n",
      "63    Wanted child later or did not want more children       DB2\n",
      "64                        Desired waiting time (units)      DB3U\n",
      "65                       Desired waiting time (number)      DB3N\n",
      "66                             Received antenatal care       MN1\n",
      "67                              Antenatal care: Doctor      MN2A\n",
      "68                     Antenatal care: Nurse / Midwife      MN2B\n",
      "69                   Antenatal care: Auxiliary midwife      MN2C\n",
      "70         Antenatal care: Traditional birth attendant      MN2F\n",
      "71             Antenatal care: Community health worker      MN2G\n",
      "72                               Antenatal care: Other      MN2X\n",
      "73                       Times received antenatal care       MN3\n",
      "74                                      Blood pressure      MN4A\n",
      "75                                        Urine sample      MN4B\n",
      "76                                        Blood sample      MN4C\n",
      "77                           Has own immunization card       MN5\n",
      "78   Any tetanus toxoid injection during last pregn...       MN6\n",
      "79       Doses of tetanus toxoid during last pregnancy       MN7\n",
      "80   Any tetanus toxoid injection before last pregn...       MN9\n",
      "81       Doses of tetanus toxoid before last pregnancy      MN10\n",
      "82              Years ago last tetanus toxoid received      MN11\n",
      "83                      Assistance at delivery: Doctor     MN17A\n",
      "84             Assistance at delivery: Nurse / Midwife     MN17B\n",
      "85           Assistance at delivery: Auxiliary midwife     MN17C\n",
      "86   Assistance at delivery: Traditional birth atte...     MN17F\n",
      "87     Assistance at delivery: Community health worker     MN17G\n",
      "88           Assistance at delivery: Relative / Friend     MN17H\n",
      "89                       Assistance at delivery: Other     MN17X\n",
      "90                      Assistance at delivery: No one     MN17Y\n",
      "91                                   Place of delivery      MN18\n",
      "92                       Delivery by caesarean section      MN19\n",
      "93                              Size of child at birth      MN20\n",
      "94                              Child weighed at birth      MN21\n",
      "95                          Weight from card or recall     MN22A\n",
      "96                         Weight at birth (Kilograms)      MN22\n",
      "97   Menstrual period returned since the birth of c...      MN23\n",
      "98                                     Ever breastfeed      MN24\n",
      "99                      Time baby put to breast (unit)     MN25U\n",
      "100                   Time baby put to breast (number)     MN25N\n",
      "101  Within first 3 days after delivery, child give...      MN26\n",
      "102  Child given to drink - Milk (other than breast...     MN27A\n",
      "103                 Child given to drink - Plain water     MN27B\n",
      "104      Child given to drink - Sugar or glucose water     MN27C\n",
      "105                 Child given to drink - Gripe water     MN27D\n",
      "106  Child given to drink - Sugar - salt - water so...     MN27E\n",
      "107                 Child given to drink - Fruit juice     MN27F\n",
      "108              Child given to drink - Infant formula     MN27G\n",
      "109             Child given to drink - Tea / Infusions     MN27H\n",
      "110                       Child given to drink - Honey     MN27I\n",
      "111                       Child given to drink - Other     MN27X\n",
      "112  Duration of staying in the health facility (unit)      PN2U\n",
      "113  Duration of staying in the health facility (nu...      PN2N\n",
      "114  Baby's health checked before leaving health fa...       PN3\n",
      "115  Mother's health checked before leaving health ...       PN4\n",
      "116  Baby's health checked after leaving health fac...       PN5\n",
      "117           Baby checked after the delivery was over       PN7\n",
      "118         Mother checked after the delivery was over       PN8\n",
      "119           Additional baby check after the delivery       PN9\n",
      "120                    Baby checked after the delivery      PN10\n",
      "121                   Number of times baby was checked      PN11\n",
      "122  How long after delivery did the first check of...     PN12U\n",
      "123  How long after delivery did the first check of...     PN12N\n",
      "124           Person checking on baby's health: Doctor     PN13A\n",
      "125  Person checking on baby's health: Nurse / Midwife     PN13B\n",
      "126  Person checking on baby's health: Auxiliary mi...     PN13C\n",
      "127  Person checking on baby's health: Traditional ...     PN13F\n",
      "128  Person checking on baby's health: Community he...     PN13G\n",
      "129  Person checking on baby's health: Relative / F...     PN13H\n",
      "130            Person checking on baby's health: Other     PN13X\n",
      "131              Place where baby's health was checked      PN14\n",
      "132  Mother's health checked after leaving health f...      PN16\n",
      "133  Mother's health checked after the delivery was...      PN18\n",
      "134  Mother's health checked after the birth of the...      PN19\n",
      "135  Number of times mother's health was checked af...      PN20\n",
      "136  How long after delivery did the first check of...     PN21U\n",
      "137  How long after delivery did the first check of...     PN21N\n",
      "138         Person checking on mother's health: Doctor     PN22A\n",
      "139  Person checking on mother's health: Nurse / Mi...     PN22B\n",
      "140  Person checking on mother's health: Auxiliary ...     PN22C\n",
      "141  Person checking on mother's health: Traditiona...     PN22F\n",
      "142  Person checking on mother's health: Community ...     PN22G\n",
      "143  Person checking on mother's health: Relative /...     PN22H\n",
      "144          Person checking on mother's health: Other     PN22X\n",
      "145            Place where mother's health was checked      PN23\n",
      "146                                 Currently pregnant       CP1\n",
      "147        Currently using a method to avoid pregnancy       CP2\n",
      "148                Ever used method to avoid pregnancy      CP2A\n",
      "149               Current method: Female sterilization      CP3A\n",
      "150                 Current method: Male sterilization      CP3B\n",
      "151                                Current method: IUD      CP3C\n",
      "152                        Current method: Injectables      CP3D\n",
      "153                           Current method: Implants      CP3E\n",
      "154                               Current method: Pill      CP3F\n",
      "155                        Current method: Male condom      CP3G\n",
      "156                      Current method: Female condom      CP3H\n",
      "157                          Current method: Diaphragm      CP3I\n",
      "158                       Current method: Foam / Jelly      CP3J\n",
      "159     Current method: Lactational amenorrhoea method      CP3K\n",
      "160       Current method: Periodic abstinence / Rhythm      CP3L\n",
      "161                         Current method: Withdrawal      CP3M\n",
      "162                              Current method: Other      CP3X\n",
      "163                 Wanted to get pregnant at the time       UN2\n",
      "164    Wanted baby later or did not want more children       UN3\n",
      "165  Would like to have another child (currently pr...       UN4\n",
      "166  Would like to have another child (not currentl...       UN6\n",
      "167                        Desired waiting time (unit)      UN7U\n",
      "168                      Desired waiting time (number)      UN7N\n",
      "169                               Able to get pregnant      UN10\n",
      "170                    Reason: Infrequent sex / No sex     UN11A\n",
      "171                                 Reason: Menopausal     UN11B\n",
      "172                          Reason: Never menstruated     UN11C\n",
      "173                               Reason: Hysterectomy     UN11D\n",
      "174  Reason: Trying to get pregnant for 2 years wit...     UN11E\n",
      "175                     Reason: Postpartum amenorrheic     UN11F\n",
      "176                              Reason: Breastfeeding     UN11G\n",
      "177                                    Reason: Too old     UN11H\n",
      "178                                 Reason: Fatalistic     UN11I\n",
      "179                                      Reason: Other     UN11X\n",
      "180                                 Reason: Don't know     UN11Z\n",
      "181              Start of last menstrual period (unit)     UN13U\n",
      "182            Start of last menstrual period (number)     UN13N\n",
      "183    Symptoms: Child not able to drink or breastfeed      IS2A\n",
      "184                     Symptoms: Child becomes sicker      IS2B\n",
      "185                   Symptoms: Child develops a fever      IS2C\n",
      "186                 Symptoms: Child has fast breathing      IS2D\n",
      "187            Symptoms: Child has difficult breathing      IS2E\n",
      "188                Symptoms: Child has blood in stools      IS2F\n",
      "189                 Symptoms: Child is drinking poorly      IS2G\n",
      "190                      Symptoms: Child has diarrhoea      IS2H\n",
      "191                                    Symptoms: Other      IS2X\n",
      "192                                    Symptoms: Other      IS2Y\n",
      "193                                    Symptoms: Other      IS2Z\n",
      "194                                 Ever heard of AIDS       HA1\n",
      "195  Can avoid AIDS virus by having one uninfected ...       HA2\n",
      "196      Can get AIDS virus through supernatural means       HA3\n",
      "197  Can avoid AIDS virus by using a condom correct...       HA4\n",
      "198             Can get AIDS virus from mosquito bites       HA5\n",
      "199  Can get AIDS virus by sharing food with a pers...       HA6\n",
      "200         Healthy-looking person may have AIDS virus       HA7\n",
      "201   AIDS virus from mother to child during pregnancy      HA8A\n",
      "202    AIDS virus from mother to child during delivery      HA8B\n",
      "203  AIDS virus from mother to child through breast...      HA8C\n",
      "204  Should female teacher with AIDS virus be allow...       HA9\n",
      "205  Would buy fresh vegetables from shopkeeper wit...      HA10\n",
      "206  If HH member became infected with AIDS virus, ...      HA11\n",
      "207  Willing to care for person with AIDS in household      HA12\n",
      "208  Given information about AIDS virus during ante...     HA15A\n",
      "209  Given information about AIDS virus during ante...     HA15B\n",
      "210  Given information about AIDS virus during ante...     HA15C\n",
      "211                Know a place to get AIDS virus test      HA27\n",
      "212                                               Area       HH6\n",
      "213                                           Division       HH7\n",
      "214                                           District      HH7A\n",
      "215                      Date of interview women (CMC)      WDOI\n",
      "216                       Date of birth of woman (CMC)      WDOB\n",
      "217                                                Age      WAGE\n",
      "218                             Date of marriage (CMC)      WDOM\n",
      "219                              Age at first marriage     WAGEM\n",
      "220                 Date of birth of first child (CMC)    WDOBFC\n",
      "221                  Date of birth of last child (CMC)    WDOBLC\n",
      "222                                     Marital status   MSTATUS\n",
      "223                                 Children ever born       CEB\n",
      "224                                 Children surviving     CSURV\n",
      "225                                      Children dead     CDEAD\n",
      "226                                          Education   welevel\n",
      "227                         Religion of household head  religion\n",
      "228                              Women's sample weight  wmweight\n",
      "229                              Combined wealth score    wscore\n",
      "230                              Wealth index quintile   windex5\n",
      "231                                 Urban wealth score   wscoreu\n",
      "232                        Urban wealth index quintile  windex5u\n",
      "233                                 Rural wealth score   wscorer\n",
      "234                        Rural wealth index quintile  windex5r\n"
     ]
    }
   ],
   "source": [
    "with pd.option_context('display.max_rows', None, 'display.max_columns', None):\n",
    "    print(var_defs)"
   ]
  },
  {
   "cell_type": "markdown",
   "metadata": {},
   "source": [
    "### Variables spread across multiple columns\n",
    "Another example: Information about some variables, like Antenatal Care, are spread across several columns. The type of caregiver before childbirth can be A, G, B, C, ? or F. "
   ]
  },
  {
   "cell_type": "code",
   "execution_count": 20,
   "metadata": {
    "collapsed": true
   },
   "outputs": [],
   "source": [
    "# melt Antenatal Care into one colum and count frequency of each.\n",
    "test_long = pd.melt(df2.iloc[:, 67:72],\n",
    "                    var_name='Antenatal care',\n",
    "                    value_name='Caregiver')"
   ]
  },
  {
   "cell_type": "code",
   "execution_count": 21,
   "metadata": {},
   "outputs": [
    {
     "data": {
      "text/plain": [
       "     292533\n",
       "A      3988\n",
       "G       718\n",
       "B       677\n",
       "C        48\n",
       "F        21\n",
       "?        10\n",
       "Name: Caregiver, dtype: int64"
      ]
     },
     "execution_count": 21,
     "metadata": {},
     "output_type": "execute_result"
    }
   ],
   "source": [
    "test_long['Caregiver'].value_counts(dropna=False)"
   ]
  },
  {
   "cell_type": "markdown",
   "metadata": {},
   "source": [
    "#### Second example: Assistance at delivery"
   ]
  },
  {
   "cell_type": "code",
   "execution_count": 22,
   "metadata": {},
   "outputs": [
    {
     "data": {
      "text/plain": [
       "83"
      ]
     },
     "execution_count": 22,
     "metadata": {},
     "output_type": "execute_result"
    }
   ],
   "source": [
    "# get column start index\n",
    "df2.columns.get_loc('MN17A')"
   ]
  },
  {
   "cell_type": "code",
   "execution_count": 23,
   "metadata": {},
   "outputs": [
    {
     "data": {
      "text/html": [
       "<div>\n",
       "<style scoped>\n",
       "    .dataframe tbody tr th:only-of-type {\n",
       "        vertical-align: middle;\n",
       "    }\n",
       "\n",
       "    .dataframe tbody tr th {\n",
       "        vertical-align: top;\n",
       "    }\n",
       "\n",
       "    .dataframe thead th {\n",
       "        text-align: right;\n",
       "    }\n",
       "</style>\n",
       "<table border=\"1\" class=\"dataframe\">\n",
       "  <thead>\n",
       "    <tr style=\"text-align: right;\">\n",
       "      <th></th>\n",
       "      <th>MN17A</th>\n",
       "      <th>MN17B</th>\n",
       "      <th>MN17C</th>\n",
       "      <th>MN17F</th>\n",
       "      <th>MN17G</th>\n",
       "      <th>MN17H</th>\n",
       "      <th>MN17X</th>\n",
       "      <th>MN17Y</th>\n",
       "    </tr>\n",
       "  </thead>\n",
       "  <tbody>\n",
       "    <tr>\n",
       "      <th>0</th>\n",
       "      <td></td>\n",
       "      <td></td>\n",
       "      <td></td>\n",
       "      <td></td>\n",
       "      <td></td>\n",
       "      <td></td>\n",
       "      <td></td>\n",
       "      <td></td>\n",
       "    </tr>\n",
       "    <tr>\n",
       "      <th>1</th>\n",
       "      <td></td>\n",
       "      <td></td>\n",
       "      <td></td>\n",
       "      <td></td>\n",
       "      <td></td>\n",
       "      <td></td>\n",
       "      <td></td>\n",
       "      <td></td>\n",
       "    </tr>\n",
       "  </tbody>\n",
       "</table>\n",
       "</div>"
      ],
      "text/plain": [
       "  MN17A MN17B MN17C MN17F MN17G MN17H MN17X MN17Y\n",
       "0                                                \n",
       "1                                                "
      ]
     },
     "execution_count": 23,
     "metadata": {},
     "output_type": "execute_result"
    }
   ],
   "source": [
    "# check results\n",
    "df2.iloc[:, 83:91].head(2)"
   ]
  },
  {
   "cell_type": "markdown",
   "metadata": {},
   "source": [
    "### Combinations \n",
    "When multiple providers are present at delivery, there are combinations -- 63 different cases for Assistance at Delivery."
   ]
  },
  {
   "cell_type": "code",
   "execution_count": 24,
   "metadata": {},
   "outputs": [],
   "source": [
    "# concatenate values from multiple provider type columns\n",
    "col_cat = df2.iloc[:,83].str.cat(df2.iloc[:,84:91])"
   ]
  },
  {
   "cell_type": "code",
   "execution_count": 25,
   "metadata": {},
   "outputs": [
    {
     "data": {
      "text/plain": [
       "         51733\n",
       "H         2354\n",
       "F         1237\n",
       "AB         922\n",
       "A          654\n",
       "FH         606\n",
       "B          418\n",
       "C          354\n",
       "ABH        204\n",
       "CH         180\n",
       "         ...  \n",
       "BHX          1\n",
       "AFGH         1\n",
       "ABCG         1\n",
       "ABCF         1\n",
       "ABFH         1\n",
       "ACFX         1\n",
       "BX           1\n",
       "ACGH         1\n",
       "ABCFG        1\n",
       "ABFX         1\n",
       "Name: MN17A, Length: 63, dtype: int64"
      ]
     },
     "execution_count": 25,
     "metadata": {},
     "output_type": "execute_result"
    }
   ],
   "source": [
    "col_cat.value_counts(dropna=False)"
   ]
  },
  {
   "cell_type": "markdown",
   "metadata": {},
   "source": [
    "### Grouping: Assistance at delivery\n",
    "Add a new category to the df so we can group on it and do counts."
   ]
  },
  {
   "cell_type": "markdown",
   "metadata": {},
   "source": [
    "#### Provider codes\n",
    "Doctor\tA  \n",
    "Nurse / Midwife\tB  \n",
    "Auxiliary midwife C  \n",
    "Traditional birth attendant\tF  \n",
    "Community health worker\tG  \n",
    "Relative / Friend H  \n",
    "Other (specify)\tX  \n",
    "No one Y  \n"
   ]
  },
  {
   "cell_type": "code",
   "execution_count": 26,
   "metadata": {},
   "outputs": [],
   "source": [
    "df2['Assistance at delivery'] = df2.iloc[:,83].str.cat(df2.iloc[:,84:91])"
   ]
  },
  {
   "cell_type": "code",
   "execution_count": 27,
   "metadata": {},
   "outputs": [
    {
     "data": {
      "text/plain": [
       "         51733\n",
       "H         2354\n",
       "F         1237\n",
       "AB         922\n",
       "A          654\n",
       "FH         606\n",
       "B          418\n",
       "C          354\n",
       "ABH        204\n",
       "CH         180\n",
       "         ...  \n",
       "BHX          1\n",
       "AFGH         1\n",
       "ABCG         1\n",
       "ABCF         1\n",
       "ABFH         1\n",
       "ACFX         1\n",
       "BX           1\n",
       "ACGH         1\n",
       "ABCFG        1\n",
       "ABFX         1\n",
       "Name: Assistance at delivery, Length: 63, dtype: int64"
      ]
     },
     "execution_count": 27,
     "metadata": {},
     "output_type": "execute_result"
    }
   ],
   "source": [
    "df2['Assistance at delivery'].value_counts()"
   ]
  },
  {
   "cell_type": "code",
   "execution_count": 28,
   "metadata": {
    "scrolled": false
   },
   "outputs": [
    {
     "data": {
      "image/png": "[encoded data removed]",
      "text/plain": [
       "<matplotlib.figure.Figure at 0x10ebb1160>"
      ]
     },
     "metadata": {},
     "output_type": "display_data"
    }
   ],
   "source": [
    "# library & dataset\n",
    "# Use a color palette\n",
    "providers = ['A','H', 'F','B', 'C', 'G', 'AB', 'FH']\n",
    "sns.boxplot(x=df2['Assistance at delivery'][df2['Assistance at delivery'].isin(providers)],\n",
    "            y=df2['MA9'][df2[\"MA9\"] < 50], palette=\"Blues\", linewidth=2)\n",
    "\n",
    "sns.plt.show()"
   ]
  },
  {
   "cell_type": "markdown",
   "metadata": {},
   "source": [
    "### Child mortality"
   ]
  },
  {
   "cell_type": "code",
   "execution_count": 29,
   "metadata": {
    "collapsed": true
   },
   "outputs": [],
   "source": [
    "# total living children\n",
    "df2['Children_living'] = df2['CM4'] + df2['CM6']"
   ]
  },
  {
   "cell_type": "code",
   "execution_count": 30,
   "metadata": {
    "collapsed": true
   },
   "outputs": [],
   "source": [
    "# total children who died\n",
    "df2['Children_dead'] = df2['CM9A'] + df2['CM9B']"
   ]
  },
  {
   "cell_type": "code",
   "execution_count": 31,
   "metadata": {},
   "outputs": [
    {
     "data": {
      "text/plain": [
       "3.0    31267\n",
       "2.0     8779\n",
       "4.0      245\n",
       "Name: Children_living, dtype: int64"
      ]
     },
     "execution_count": 31,
     "metadata": {},
     "output_type": "execute_result"
    }
   ],
   "source": [
    "# most have 3 living children\n",
    "df2['Children_living'].value_counts()"
   ]
  },
  {
   "cell_type": "code",
   "execution_count": 32,
   "metadata": {},
   "outputs": [
    {
     "data": {
      "text/plain": [
       "1.0     5387\n",
       "2.0     1342\n",
       "3.0      419\n",
       "4.0      114\n",
       "5.0       39\n",
       "6.0       17\n",
       "7.0        9\n",
       "8.0        3\n",
       "10.0       2\n",
       "9.0        2\n",
       "Name: Children_dead, dtype: int64"
      ]
     },
     "execution_count": 32,
     "metadata": {},
     "output_type": "execute_result"
    }
   ],
   "source": [
    "# most who who lost a child lost one child; some lost four or more\n",
    "df2['Children_dead'].value_counts()"
   ]
  },
  {
   "cell_type": "markdown",
   "metadata": {},
   "source": [
    "### Age at marriage/relationship"
   ]
  },
  {
   "cell_type": "code",
   "execution_count": 33,
   "metadata": {},
   "outputs": [
    {
     "data": {
      "image/png": "[encoded data removed]",
      "text/plain": [
       "<matplotlib.figure.Figure at 0x10f037780>"
      ]
     },
     "metadata": {},
     "output_type": "display_data"
    }
   ],
   "source": [
    "# women age at first marriage\n",
    "# kde = stats.gaussian_kde(df2['MA9'])\n",
    "df2['MA9'].hist(bins=30, color='lightblue', ec='k')\n",
    "plt.axvline(df2['MA9'].mean(), color='red',\n",
    "             linestyle='dotted', linewidth=2,\n",
    "             alpha=0.65)\n",
    "plt.show()"
   ]
  },
  {
   "cell_type": "code",
   "execution_count": 34,
   "metadata": {},
   "outputs": [
    {
     "data": {
      "image/png": "[encoded data removed]",
      "text/plain": [
       "<matplotlib.figure.Figure at 0x10f4b50b8>"
      ]
     },
     "metadata": {},
     "output_type": "display_data"
    }
   ],
   "source": [
    "# husband/partner age at women's first marriage\n",
    "# women age at first marriage\n",
    "df2['MA2'].hist(bins=30, color='darkkhaki', ec='k')\n",
    "plt.axvline(df2['MA2'].mean(), color='red',\n",
    "            linestyle='dotted', linewidth=2,\n",
    "            alpha=0.65)\n",
    "plt.show()"
   ]
  },
  {
   "cell_type": "code",
   "execution_count": 35,
   "metadata": {},
   "outputs": [
    {
     "data": {
      "text/plain": [
       "         51733\n",
       "H         2354\n",
       "F         1237\n",
       "AB         922\n",
       "A          654\n",
       "FH         606\n",
       "B          418\n",
       "C          354\n",
       "ABH        204\n",
       "CH         180\n",
       "         ...  \n",
       "BHX          1\n",
       "AFGH         1\n",
       "ABCG         1\n",
       "ABCF         1\n",
       "ABFH         1\n",
       "ACFX         1\n",
       "BX           1\n",
       "ACGH         1\n",
       "ABCFG        1\n",
       "ABFX         1\n",
       "Name: Assistance at delivery, Length: 63, dtype: int64"
      ]
     },
     "execution_count": 35,
     "metadata": {},
     "output_type": "execute_result"
    }
   ],
   "source": [
    "df2['Assistance at delivery'].value_counts()"
   ]
  },
  {
   "cell_type": "markdown",
   "metadata": {},
   "source": [
    "### Post-natal care"
   ]
  },
  {
   "cell_type": "code",
   "execution_count": 36,
   "metadata": {},
   "outputs": [
    {
     "data": {
      "text/plain": [
       "120"
      ]
     },
     "execution_count": 36,
     "metadata": {},
     "output_type": "execute_result"
    }
   ],
   "source": [
    "# find an index\n",
    "pd.Index(meta2.column_names).get_loc('PN10')"
   ]
  },
  {
   "cell_type": "code",
   "execution_count": 37,
   "metadata": {
    "collapsed": true
   },
   "outputs": [],
   "source": [
    "# as above, combine the variables from all post-natal columns\n",
    "df2['Post-Natal Health'] = df2.iloc[:,124].str.cat(df2.iloc[:,125:130])"
   ]
  },
  {
   "cell_type": "code",
   "execution_count": 38,
   "metadata": {
    "scrolled": true
   },
   "outputs": [
    {
     "data": {
      "text/plain": [
       "Post-Natal Health\n",
       "AGH       2.000000\n",
       "ABC       1.000000\n",
       "AF        1.000000\n",
       "BG        0.500000\n",
       "FH        0.391304\n",
       "CH        0.208333\n",
       "FG        0.200000\n",
       "          0.199026\n",
       "AB        0.187500\n",
       "CG        0.166667\n",
       "            ...   \n",
       "BC        0.000000\n",
       "BCG       0.000000\n",
       "AG        0.000000\n",
       "BH        0.000000\n",
       "AC        0.000000\n",
       "ABG       0.000000\n",
       "ABFH      0.000000\n",
       "CF        0.000000\n",
       "CFH       0.000000\n",
       "??????    0.000000\n",
       "Name: CDEAD, Length: 28, dtype: float64"
      ]
     },
     "execution_count": 38,
     "metadata": {},
     "output_type": "execute_result"
    }
   ],
   "source": [
    "# mean child deaths grouped by post-natal caregiver combinations\n",
    "df2.groupby('Post-Natal Health')['CDEAD'].mean().sort_values(ascending=False)"
   ]
  },
  {
   "cell_type": "code",
   "execution_count": 39,
   "metadata": {
    "scrolled": false
   },
   "outputs": [
    {
     "data": {
      "text/plain": [
       "Post-Natal Health\n",
       "          50501\n",
       "??????       12\n",
       "A           546\n",
       "AB           80\n",
       "ABC           1\n",
       "ABFH          1\n",
       "ABG           3\n",
       "ABH           8\n",
       "AC            8\n",
       "AF            1\n",
       "          ...  \n",
       "C            51\n",
       "CF            2\n",
       "CFH           1\n",
       "CG            6\n",
       "CH           24\n",
       "F           147\n",
       "FG            5\n",
       "FH           23\n",
       "G           206\n",
       "H            74\n",
       "Name: CDEAD, Length: 28, dtype: int64"
      ]
     },
     "execution_count": 39,
     "metadata": {},
     "output_type": "execute_result"
    }
   ],
   "source": [
    "# a count; most times a doctor involved\n",
    "df2.groupby('Post-Natal Health')['CDEAD'].count()"
   ]
  },
  {
   "cell_type": "code",
   "execution_count": 40,
   "metadata": {},
   "outputs": [
    {
     "data": {
      "text/plain": [
       "Post-Natal Health\n",
       "        109481.0\n",
       "A          987.0\n",
       "G          451.0\n",
       "F          323.0\n",
       "H          170.0\n",
       "AB         143.0\n",
       "B          128.0\n",
       "C          103.0\n",
       "CH          62.0\n",
       "FH          53.0\n",
       "          ...   \n",
       "ABG          6.0\n",
       "CF           5.0\n",
       "ABC          5.0\n",
       "AF           5.0\n",
       "AGH          4.0\n",
       "BC           3.0\n",
       "CFH          2.0\n",
       "BCG          2.0\n",
       "ABFH         1.0\n",
       "BH           1.0\n",
       "Name: CM10, Length: 28, dtype: float64"
      ]
     },
     "execution_count": 40,
     "metadata": {},
     "output_type": "execute_result"
    }
   ],
   "source": [
    "# doctor present child survives\n",
    "df2.groupby('Post-Natal Health')['CM10'].sum().sort_values(ascending=False)"
   ]
  },
  {
   "cell_type": "markdown",
   "metadata": {},
   "source": [
    "### Descriptive stats"
   ]
  },
  {
   "cell_type": "code",
   "execution_count": 41,
   "metadata": {},
   "outputs": [
    {
     "data": {
      "text/plain": [
       "1.0     51791\n",
       "2.0      7263\n",
       "96.0      295\n",
       "5.0       181\n",
       "3.0        62\n",
       "4.0         7\n",
       "Name: WM7, dtype: int64"
      ]
     },
     "execution_count": 41,
     "metadata": {},
     "output_type": "execute_result"
    }
   ],
   "source": [
    "# result of interview; 51791 completed, 7263 not home\n",
    "df2['WM7'].value_counts()"
   ]
  },
  {
   "cell_type": "code",
   "execution_count": 42,
   "metadata": {},
   "outputs": [
    {
     "data": {
      "text/plain": [
       "1.0    40291\n",
       "2.0     4032\n",
       "Name: CM1, dtype: int64"
      ]
     },
     "execution_count": 42,
     "metadata": {},
     "output_type": "execute_result"
    }
   ],
   "source": [
    "# ever gave birth, 1=Yes\n",
    "df2['CM1'].value_counts()"
   ]
  },
  {
   "cell_type": "code",
   "execution_count": 43,
   "metadata": {},
   "outputs": [
    {
     "data": {
      "text/plain": [
       "2.0    36989\n",
       "1.0     7334\n",
       "Name: CM8, dtype: int64"
      ]
     },
     "execution_count": 43,
     "metadata": {},
     "output_type": "execute_result"
    }
   ],
   "source": [
    "# at least one child born alive later died\n",
    "df2['CM8'].value_counts()"
   ]
  },
  {
   "cell_type": "code",
   "execution_count": 44,
   "metadata": {},
   "outputs": [
    {
     "data": {
      "text/plain": [
       "1.0    3764\n",
       "0.0    2761\n",
       "2.0     625\n",
       "3.0     141\n",
       "4.0      27\n",
       "5.0      13\n",
       "6.0       2\n",
       "8.0       1\n",
       "Name: CM9A, dtype: int64"
      ]
     },
     "execution_count": 44,
     "metadata": {},
     "output_type": "execute_result"
    }
   ],
   "source": [
    "# boy later died; none=00\n",
    "df2['CM9A'].value_counts()"
   ]
  },
  {
   "cell_type": "code",
   "execution_count": 45,
   "metadata": {},
   "outputs": [
    {
     "data": {
      "text/plain": [
       "5630.0"
      ]
     },
     "execution_count": 45,
     "metadata": {},
     "output_type": "execute_result"
    }
   ],
   "source": [
    "# total boys dead\n",
    "df2['CM9A'].sum()"
   ]
  },
  {
   "cell_type": "code",
   "execution_count": 46,
   "metadata": {},
   "outputs": [
    {
     "data": {
      "text/plain": [
       "0.0    3503\n",
       "1.0    3235\n",
       "2.0     485\n",
       "3.0      90\n",
       "4.0      14\n",
       "5.0       4\n",
       "8.0       2\n",
       "9.0       1\n",
       "Name: CM9B, dtype: int64"
      ]
     },
     "execution_count": 46,
     "metadata": {},
     "output_type": "execute_result"
    }
   ],
   "source": [
    "# girl later died\n",
    "df2['CM9B'].value_counts()"
   ]
  },
  {
   "cell_type": "code",
   "execution_count": 47,
   "metadata": {},
   "outputs": [
    {
     "data": {
      "text/plain": [
       "4576.0"
      ]
     },
     "execution_count": 47,
     "metadata": {},
     "output_type": "execute_result"
    }
   ],
   "source": [
    "# total girls died\n",
    "df2['CM9B'].sum()"
   ]
  },
  {
   "cell_type": "markdown",
   "metadata": {},
   "source": [
    "### Scratch from here"
   ]
  },
  {
   "cell_type": "code",
   "execution_count": null,
   "metadata": {
    "collapsed": true
   },
   "outputs": [],
   "source": []
  },
  {
   "cell_type": "code",
   "execution_count": 48,
   "metadata": {},
   "outputs": [
    {
     "data": {
      "text/plain": [
       "PN13A\n",
       "     58922\n",
       "?       12\n",
       "A      665\n",
       "Name: PN13A, dtype: int64"
      ]
     },
     "execution_count": 48,
     "metadata": {},
     "output_type": "execute_result"
    }
   ],
   "source": [
    "# grouping values for single variable\n",
    "df2.iloc[:,124].groupby(df2.iloc[:,124]).count()"
   ]
  },
  {
   "cell_type": "code",
   "execution_count": 49,
   "metadata": {},
   "outputs": [
    {
     "data": {
      "text/plain": [
       "array(['', 'A', '?'], dtype=object)"
      ]
     },
     "execution_count": 49,
     "metadata": {},
     "output_type": "execute_result"
    }
   ],
   "source": [
    "# what are the values?\n",
    "df2.iloc[:,124].unique()"
   ]
  },
  {
   "cell_type": "code",
   "execution_count": 50,
   "metadata": {},
   "outputs": [
    {
     "data": {
      "text/plain": [
       "PN13A\n",
       "     110824.0\n",
       "?        25.0\n",
       "A      1204.0\n",
       "Name: CM10, dtype: float64"
      ]
     },
     "execution_count": 50,
     "metadata": {},
     "output_type": "execute_result"
    }
   ],
   "source": [
    "# grouping by doctor present, children ever born\n",
    "df2.groupby('PN13A')['CM10'].sum()"
   ]
  },
  {
   "cell_type": "code",
   "execution_count": 51,
   "metadata": {},
   "outputs": [
    {
     "data": {
      "text/plain": [
       "PN13A\n",
       "     10130.0\n",
       "?        0.0\n",
       "A       76.0\n",
       "Name: CDEAD, dtype: float64"
      ]
     },
     "execution_count": 51,
     "metadata": {},
     "output_type": "execute_result"
    }
   ],
   "source": [
    "# group on doctor present, children dead\n",
    "df2.groupby('PN13A')['CDEAD'].sum()"
   ]
  },
  {
   "cell_type": "code",
   "execution_count": 52,
   "metadata": {},
   "outputs": [
    {
     "data": {
      "text/html": [
       "<div>\n",
       "<style scoped>\n",
       "    .dataframe tbody tr th:only-of-type {\n",
       "        vertical-align: middle;\n",
       "    }\n",
       "\n",
       "    .dataframe tbody tr th {\n",
       "        vertical-align: top;\n",
       "    }\n",
       "\n",
       "    .dataframe thead tr th {\n",
       "        text-align: left;\n",
       "    }\n",
       "\n",
       "    .dataframe thead tr:last-of-type th {\n",
       "        text-align: right;\n",
       "    }\n",
       "</style>\n",
       "<table border=\"1\" class=\"dataframe\">\n",
       "  <thead>\n",
       "    <tr>\n",
       "      <th></th>\n",
       "      <th colspan=\"8\" halign=\"left\">CDEAD</th>\n",
       "      <th colspan=\"2\" halign=\"left\">CEB</th>\n",
       "      <th>...</th>\n",
       "      <th colspan=\"2\" halign=\"left\">wscorer</th>\n",
       "      <th colspan=\"8\" halign=\"left\">wscoreu</th>\n",
       "    </tr>\n",
       "    <tr>\n",
       "      <th></th>\n",
       "      <th>count</th>\n",
       "      <th>mean</th>\n",
       "      <th>std</th>\n",
       "      <th>min</th>\n",
       "      <th>25%</th>\n",
       "      <th>50%</th>\n",
       "      <th>75%</th>\n",
       "      <th>max</th>\n",
       "      <th>count</th>\n",
       "      <th>mean</th>\n",
       "      <th>...</th>\n",
       "      <th>75%</th>\n",
       "      <th>max</th>\n",
       "      <th>count</th>\n",
       "      <th>mean</th>\n",
       "      <th>std</th>\n",
       "      <th>min</th>\n",
       "      <th>25%</th>\n",
       "      <th>50%</th>\n",
       "      <th>75%</th>\n",
       "      <th>max</th>\n",
       "    </tr>\n",
       "    <tr>\n",
       "      <th>PN13A</th>\n",
       "      <th></th>\n",
       "      <th></th>\n",
       "      <th></th>\n",
       "      <th></th>\n",
       "      <th></th>\n",
       "      <th></th>\n",
       "      <th></th>\n",
       "      <th></th>\n",
       "      <th></th>\n",
       "      <th></th>\n",
       "      <th></th>\n",
       "      <th></th>\n",
       "      <th></th>\n",
       "      <th></th>\n",
       "      <th></th>\n",
       "      <th></th>\n",
       "      <th></th>\n",
       "      <th></th>\n",
       "      <th></th>\n",
       "      <th></th>\n",
       "      <th></th>\n",
       "    </tr>\n",
       "  </thead>\n",
       "  <tbody>\n",
       "    <tr>\n",
       "      <th></th>\n",
       "      <td>51114.0</td>\n",
       "      <td>0.198184</td>\n",
       "      <td>0.573487</td>\n",
       "      <td>0.0</td>\n",
       "      <td>0.0</td>\n",
       "      <td>0.0</td>\n",
       "      <td>0.0</td>\n",
       "      <td>10.0</td>\n",
       "      <td>51114.0</td>\n",
       "      <td>2.167938</td>\n",
       "      <td>...</td>\n",
       "      <td>0.352580</td>\n",
       "      <td>5.419687</td>\n",
       "      <td>16580.0</td>\n",
       "      <td>0.039610</td>\n",
       "      <td>0.722950</td>\n",
       "      <td>-1.933732</td>\n",
       "      <td>-0.152228</td>\n",
       "      <td>0.000000</td>\n",
       "      <td>0.031009</td>\n",
       "      <td>3.021174</td>\n",
       "    </tr>\n",
       "    <tr>\n",
       "      <th>?</th>\n",
       "      <td>12.0</td>\n",
       "      <td>0.000000</td>\n",
       "      <td>0.000000</td>\n",
       "      <td>0.0</td>\n",
       "      <td>0.0</td>\n",
       "      <td>0.0</td>\n",
       "      <td>0.0</td>\n",
       "      <td>0.0</td>\n",
       "      <td>12.0</td>\n",
       "      <td>2.083333</td>\n",
       "      <td>...</td>\n",
       "      <td>2.013836</td>\n",
       "      <td>3.130632</td>\n",
       "      <td>5.0</td>\n",
       "      <td>0.705703</td>\n",
       "      <td>1.329465</td>\n",
       "      <td>-0.588748</td>\n",
       "      <td>-0.422899</td>\n",
       "      <td>0.407018</td>\n",
       "      <td>1.661957</td>\n",
       "      <td>2.471186</td>\n",
       "    </tr>\n",
       "    <tr>\n",
       "      <th>A</th>\n",
       "      <td>665.0</td>\n",
       "      <td>0.114286</td>\n",
       "      <td>0.398254</td>\n",
       "      <td>0.0</td>\n",
       "      <td>0.0</td>\n",
       "      <td>0.0</td>\n",
       "      <td>0.0</td>\n",
       "      <td>4.0</td>\n",
       "      <td>665.0</td>\n",
       "      <td>1.810526</td>\n",
       "      <td>...</td>\n",
       "      <td>1.357541</td>\n",
       "      <td>5.245946</td>\n",
       "      <td>174.0</td>\n",
       "      <td>0.706220</td>\n",
       "      <td>1.005922</td>\n",
       "      <td>-1.208672</td>\n",
       "      <td>-0.054916</td>\n",
       "      <td>0.740708</td>\n",
       "      <td>1.526123</td>\n",
       "      <td>2.767395</td>\n",
       "    </tr>\n",
       "  </tbody>\n",
       "</table>\n",
       "<p>3 rows × 1296 columns</p>\n",
       "</div>"
      ],
      "text/plain": [
       "         CDEAD                                                    CEB  \\\n",
       "         count      mean       std  min  25%  50%  75%   max    count   \n",
       "PN13A                                                                   \n",
       "       51114.0  0.198184  0.573487  0.0  0.0  0.0  0.0  10.0  51114.0   \n",
       "?         12.0  0.000000  0.000000  0.0  0.0  0.0  0.0   0.0     12.0   \n",
       "A        665.0  0.114286  0.398254  0.0  0.0  0.0  0.0   4.0    665.0   \n",
       "\n",
       "                   ...      wscorer            wscoreu                      \\\n",
       "           mean    ...          75%       max    count      mean       std   \n",
       "PN13A              ...                                                       \n",
       "       2.167938    ...     0.352580  5.419687  16580.0  0.039610  0.722950   \n",
       "?      2.083333    ...     2.013836  3.130632      5.0  0.705703  1.329465   \n",
       "A      1.810526    ...     1.357541  5.245946    174.0  0.706220  1.005922   \n",
       "\n",
       "                                                         \n",
       "            min       25%       50%       75%       max  \n",
       "PN13A                                                    \n",
       "      -1.933732 -0.152228  0.000000  0.031009  3.021174  \n",
       "?     -0.588748 -0.422899  0.407018  1.661957  2.471186  \n",
       "A     -1.208672 -0.054916  0.740708  1.526123  2.767395  \n",
       "\n",
       "[3 rows x 1296 columns]"
      ]
     },
     "execution_count": 52,
     "metadata": {},
     "output_type": "execute_result"
    }
   ],
   "source": [
    "df2.groupby(['PN13A']).describe()"
   ]
  },
  {
   "cell_type": "code",
   "execution_count": null,
   "metadata": {
    "collapsed": true
   },
   "outputs": [],
   "source": []
  }
 ],
 "metadata": {
  "kernelspec": {
   "display_name": "Python 3",
   "language": "python",
   "name": "python3"
  },
  "language_info": {
   "codemirror_mode": {
    "name": "ipython",
    "version": 3
   },
   "file_extension": ".py",
   "mimetype": "text/x-python",
   "name": "python",
   "nbconvert_exporter": "python",
   "pygments_lexer": "ipython3",
   "version": "3.6.1"
  }
 },
 "nbformat": 4,
 "nbformat_minor": 2
}

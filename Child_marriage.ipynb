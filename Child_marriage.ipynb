{
 "cells": [
  {
   "cell_type": "markdown",
   "metadata": {},
   "source": [
    "### Child marriage data first look\n",
    "Turns out, this data is hyper-refined and difficult to work with."
   ]
  },
  {
   "cell_type": "code",
   "execution_count": 1,
   "metadata": {
    "collapsed": true
   },
   "outputs": [],
   "source": [
    "# load packages\n",
    "import numpy as np\n",
    "import pandas as pd\n",
    "PREVIOUS_MAX_ROWS = pd.options.display.max_rows\n",
    "pd.options.display.max_rows = 20\n",
    "np.random.seed(12345)\n",
    "import matplotlib.pyplot as plt\n",
    "plt.rc('figure', figsize=(10, 6))\n",
    "np.set_printoptions(precision=4, suppress=True)\n",
    "import pyreadstat # this reads in the spss file"
   ]
  },
  {
   "cell_type": "markdown",
   "metadata": {},
   "source": [
    "#### Load wm.sav\n",
    "This returns a pandas dataframe and a file with metadata from spss. It's confusing because some of the boolean (true/valse) variables come in as numeric data types (0.0 and 1.0), and other categorical variables read as object data types. "
   ]
  },
  {
   "cell_type": "code",
   "execution_count": 2,
   "metadata": {},
   "outputs": [],
   "source": [
    "# apply_value_formats is by default False, so you have to set it to True manually if you want the labels\n",
    "# formats_as_category is by default True, and it means the replaced values will be transformed to a pandas category column.\n",
    "# df2, meta = pyreadstat.read_sav(\"wm.sav\", apply_value_formats=False, formats_as_category=True)"
   ]
  },
  {
   "cell_type": "code",
   "execution_count": 3,
   "metadata": {},
   "outputs": [],
   "source": [
    "df2, meta2 = pyreadstat.read_sav('wm.sav')"
   ]
  },
  {
   "cell_type": "code",
   "execution_count": 4,
   "metadata": {},
   "outputs": [
    {
     "data": {
      "text/html": [
       "<div>\n",
       "<style scoped>\n",
       "    .dataframe tbody tr th:only-of-type {\n",
       "        vertical-align: middle;\n",
       "    }\n",
       "\n",
       "    .dataframe tbody tr th {\n",
       "        vertical-align: top;\n",
       "    }\n",
       "\n",
       "    .dataframe thead th {\n",
       "        text-align: right;\n",
       "    }\n",
       "</style>\n",
       "<table border=\"1\" class=\"dataframe\">\n",
       "  <thead>\n",
       "    <tr style=\"text-align: right;\">\n",
       "      <th></th>\n",
       "      <th>HH1</th>\n",
       "      <th>HH2</th>\n",
       "      <th>LN</th>\n",
       "      <th>WM1</th>\n",
       "      <th>WM2</th>\n",
       "      <th>WM4</th>\n",
       "      <th>WM5</th>\n",
       "      <th>WM6D</th>\n",
       "      <th>WM6M</th>\n",
       "      <th>WM6Y</th>\n",
       "      <th>...</th>\n",
       "      <th>CDEAD</th>\n",
       "      <th>welevel</th>\n",
       "      <th>religion</th>\n",
       "      <th>wmweight</th>\n",
       "      <th>wscore</th>\n",
       "      <th>windex5</th>\n",
       "      <th>wscoreu</th>\n",
       "      <th>windex5u</th>\n",
       "      <th>wscorer</th>\n",
       "      <th>windex5r</th>\n",
       "    </tr>\n",
       "  </thead>\n",
       "  <tbody>\n",
       "    <tr>\n",
       "      <th>0</th>\n",
       "      <td>1.0</td>\n",
       "      <td>1.0</td>\n",
       "      <td>2.0</td>\n",
       "      <td>1.0</td>\n",
       "      <td>1.0</td>\n",
       "      <td>2.0</td>\n",
       "      <td>117.0</td>\n",
       "      <td>14.0</td>\n",
       "      <td>2.0</td>\n",
       "      <td>2013.0</td>\n",
       "      <td>...</td>\n",
       "      <td>0.0</td>\n",
       "      <td>1.0</td>\n",
       "      <td>1.0</td>\n",
       "      <td>0.468799</td>\n",
       "      <td>-0.588731</td>\n",
       "      <td>2.0</td>\n",
       "      <td>-1.038469</td>\n",
       "      <td>1.0</td>\n",
       "      <td>NaN</td>\n",
       "      <td>NaN</td>\n",
       "    </tr>\n",
       "    <tr>\n",
       "      <th>1</th>\n",
       "      <td>1.0</td>\n",
       "      <td>2.0</td>\n",
       "      <td>2.0</td>\n",
       "      <td>1.0</td>\n",
       "      <td>2.0</td>\n",
       "      <td>2.0</td>\n",
       "      <td>117.0</td>\n",
       "      <td>14.0</td>\n",
       "      <td>2.0</td>\n",
       "      <td>2013.0</td>\n",
       "      <td>...</td>\n",
       "      <td>0.0</td>\n",
       "      <td>2.0</td>\n",
       "      <td>1.0</td>\n",
       "      <td>0.468799</td>\n",
       "      <td>1.525888</td>\n",
       "      <td>5.0</td>\n",
       "      <td>0.474476</td>\n",
       "      <td>3.0</td>\n",
       "      <td>NaN</td>\n",
       "      <td>NaN</td>\n",
       "    </tr>\n",
       "    <tr>\n",
       "      <th>2</th>\n",
       "      <td>1.0</td>\n",
       "      <td>3.0</td>\n",
       "      <td>2.0</td>\n",
       "      <td>1.0</td>\n",
       "      <td>3.0</td>\n",
       "      <td>2.0</td>\n",
       "      <td>117.0</td>\n",
       "      <td>14.0</td>\n",
       "      <td>2.0</td>\n",
       "      <td>2013.0</td>\n",
       "      <td>...</td>\n",
       "      <td>0.0</td>\n",
       "      <td>5.0</td>\n",
       "      <td>1.0</td>\n",
       "      <td>0.468799</td>\n",
       "      <td>-0.104456</td>\n",
       "      <td>3.0</td>\n",
       "      <td>-0.691985</td>\n",
       "      <td>2.0</td>\n",
       "      <td>NaN</td>\n",
       "      <td>NaN</td>\n",
       "    </tr>\n",
       "    <tr>\n",
       "      <th>3</th>\n",
       "      <td>1.0</td>\n",
       "      <td>4.0</td>\n",
       "      <td>2.0</td>\n",
       "      <td>1.0</td>\n",
       "      <td>4.0</td>\n",
       "      <td>2.0</td>\n",
       "      <td>117.0</td>\n",
       "      <td>14.0</td>\n",
       "      <td>2.0</td>\n",
       "      <td>2013.0</td>\n",
       "      <td>...</td>\n",
       "      <td>0.0</td>\n",
       "      <td>1.0</td>\n",
       "      <td>1.0</td>\n",
       "      <td>0.468799</td>\n",
       "      <td>-1.203440</td>\n",
       "      <td>1.0</td>\n",
       "      <td>-1.478274</td>\n",
       "      <td>1.0</td>\n",
       "      <td>NaN</td>\n",
       "      <td>NaN</td>\n",
       "    </tr>\n",
       "    <tr>\n",
       "      <th>4</th>\n",
       "      <td>1.0</td>\n",
       "      <td>4.0</td>\n",
       "      <td>3.0</td>\n",
       "      <td>1.0</td>\n",
       "      <td>4.0</td>\n",
       "      <td>3.0</td>\n",
       "      <td>117.0</td>\n",
       "      <td>14.0</td>\n",
       "      <td>2.0</td>\n",
       "      <td>2013.0</td>\n",
       "      <td>...</td>\n",
       "      <td>0.0</td>\n",
       "      <td>2.0</td>\n",
       "      <td>1.0</td>\n",
       "      <td>0.468799</td>\n",
       "      <td>-1.203440</td>\n",
       "      <td>1.0</td>\n",
       "      <td>-1.478274</td>\n",
       "      <td>1.0</td>\n",
       "      <td>NaN</td>\n",
       "      <td>NaN</td>\n",
       "    </tr>\n",
       "  </tbody>\n",
       "</table>\n",
       "<p>5 rows × 235 columns</p>\n",
       "</div>"
      ],
      "text/plain": [
       "   HH1  HH2   LN  WM1  WM2  WM4    WM5  WM6D  WM6M    WM6Y    ...     CDEAD  \\\n",
       "0  1.0  1.0  2.0  1.0  1.0  2.0  117.0  14.0   2.0  2013.0    ...       0.0   \n",
       "1  1.0  2.0  2.0  1.0  2.0  2.0  117.0  14.0   2.0  2013.0    ...       0.0   \n",
       "2  1.0  3.0  2.0  1.0  3.0  2.0  117.0  14.0   2.0  2013.0    ...       0.0   \n",
       "3  1.0  4.0  2.0  1.0  4.0  2.0  117.0  14.0   2.0  2013.0    ...       0.0   \n",
       "4  1.0  4.0  3.0  1.0  4.0  3.0  117.0  14.0   2.0  2013.0    ...       0.0   \n",
       "\n",
       "   welevel  religion  wmweight    wscore  windex5   wscoreu  windex5u  \\\n",
       "0      1.0       1.0  0.468799 -0.588731      2.0 -1.038469       1.0   \n",
       "1      2.0       1.0  0.468799  1.525888      5.0  0.474476       3.0   \n",
       "2      5.0       1.0  0.468799 -0.104456      3.0 -0.691985       2.0   \n",
       "3      1.0       1.0  0.468799 -1.203440      1.0 -1.478274       1.0   \n",
       "4      2.0       1.0  0.468799 -1.203440      1.0 -1.478274       1.0   \n",
       "\n",
       "   wscorer  windex5r  \n",
       "0      NaN       NaN  \n",
       "1      NaN       NaN  \n",
       "2      NaN       NaN  \n",
       "3      NaN       NaN  \n",
       "4      NaN       NaN  \n",
       "\n",
       "[5 rows x 235 columns]"
      ]
     },
     "execution_count": 4,
     "metadata": {},
     "output_type": "execute_result"
    }
   ],
   "source": [
    "df2.head()"
   ]
  },
  {
   "cell_type": "code",
   "execution_count": 5,
   "metadata": {
    "collapsed": true
   },
   "outputs": [],
   "source": [
    "# replace the column names with column labels\n",
    "df2.columns = meta2.column_labels\n",
    "# to go back to column names\n",
    "# df.columns = meta.column_names"
   ]
  },
  {
   "cell_type": "code",
   "execution_count": 6,
   "metadata": {},
   "outputs": [
    {
     "data": {
      "text/html": [
       "<div>\n",
       "<style scoped>\n",
       "    .dataframe tbody tr th:only-of-type {\n",
       "        vertical-align: middle;\n",
       "    }\n",
       "\n",
       "    .dataframe tbody tr th {\n",
       "        vertical-align: top;\n",
       "    }\n",
       "\n",
       "    .dataframe thead th {\n",
       "        text-align: right;\n",
       "    }\n",
       "</style>\n",
       "<table border=\"1\" class=\"dataframe\">\n",
       "  <thead>\n",
       "    <tr style=\"text-align: right;\">\n",
       "      <th></th>\n",
       "      <th>Cluster number</th>\n",
       "      <th>Household number</th>\n",
       "      <th>Line number</th>\n",
       "      <th>Cluster number</th>\n",
       "      <th>Household number</th>\n",
       "      <th>Woman's line number</th>\n",
       "      <th>Interviewer number</th>\n",
       "      <th>Day of interview</th>\n",
       "      <th>Month of interview</th>\n",
       "      <th>Year of interview</th>\n",
       "      <th>...</th>\n",
       "      <th>Children dead</th>\n",
       "      <th>Education</th>\n",
       "      <th>Religion of household head</th>\n",
       "      <th>Women's sample weight</th>\n",
       "      <th>Combined wealth score</th>\n",
       "      <th>Wealth index quintile</th>\n",
       "      <th>Urban wealth score</th>\n",
       "      <th>Urban wealth index quintile</th>\n",
       "      <th>Rural wealth score</th>\n",
       "      <th>Rural wealth index quintile</th>\n",
       "    </tr>\n",
       "  </thead>\n",
       "  <tbody>\n",
       "    <tr>\n",
       "      <th>0</th>\n",
       "      <td>1.0</td>\n",
       "      <td>1.0</td>\n",
       "      <td>2.0</td>\n",
       "      <td>1.0</td>\n",
       "      <td>1.0</td>\n",
       "      <td>2.0</td>\n",
       "      <td>117.0</td>\n",
       "      <td>14.0</td>\n",
       "      <td>2.0</td>\n",
       "      <td>2013.0</td>\n",
       "      <td>...</td>\n",
       "      <td>0.0</td>\n",
       "      <td>1.0</td>\n",
       "      <td>1.0</td>\n",
       "      <td>0.468799</td>\n",
       "      <td>-0.588731</td>\n",
       "      <td>2.0</td>\n",
       "      <td>-1.038469</td>\n",
       "      <td>1.0</td>\n",
       "      <td>NaN</td>\n",
       "      <td>NaN</td>\n",
       "    </tr>\n",
       "    <tr>\n",
       "      <th>1</th>\n",
       "      <td>1.0</td>\n",
       "      <td>2.0</td>\n",
       "      <td>2.0</td>\n",
       "      <td>1.0</td>\n",
       "      <td>2.0</td>\n",
       "      <td>2.0</td>\n",
       "      <td>117.0</td>\n",
       "      <td>14.0</td>\n",
       "      <td>2.0</td>\n",
       "      <td>2013.0</td>\n",
       "      <td>...</td>\n",
       "      <td>0.0</td>\n",
       "      <td>2.0</td>\n",
       "      <td>1.0</td>\n",
       "      <td>0.468799</td>\n",
       "      <td>1.525888</td>\n",
       "      <td>5.0</td>\n",
       "      <td>0.474476</td>\n",
       "      <td>3.0</td>\n",
       "      <td>NaN</td>\n",
       "      <td>NaN</td>\n",
       "    </tr>\n",
       "    <tr>\n",
       "      <th>2</th>\n",
       "      <td>1.0</td>\n",
       "      <td>3.0</td>\n",
       "      <td>2.0</td>\n",
       "      <td>1.0</td>\n",
       "      <td>3.0</td>\n",
       "      <td>2.0</td>\n",
       "      <td>117.0</td>\n",
       "      <td>14.0</td>\n",
       "      <td>2.0</td>\n",
       "      <td>2013.0</td>\n",
       "      <td>...</td>\n",
       "      <td>0.0</td>\n",
       "      <td>5.0</td>\n",
       "      <td>1.0</td>\n",
       "      <td>0.468799</td>\n",
       "      <td>-0.104456</td>\n",
       "      <td>3.0</td>\n",
       "      <td>-0.691985</td>\n",
       "      <td>2.0</td>\n",
       "      <td>NaN</td>\n",
       "      <td>NaN</td>\n",
       "    </tr>\n",
       "    <tr>\n",
       "      <th>3</th>\n",
       "      <td>1.0</td>\n",
       "      <td>4.0</td>\n",
       "      <td>2.0</td>\n",
       "      <td>1.0</td>\n",
       "      <td>4.0</td>\n",
       "      <td>2.0</td>\n",
       "      <td>117.0</td>\n",
       "      <td>14.0</td>\n",
       "      <td>2.0</td>\n",
       "      <td>2013.0</td>\n",
       "      <td>...</td>\n",
       "      <td>0.0</td>\n",
       "      <td>1.0</td>\n",
       "      <td>1.0</td>\n",
       "      <td>0.468799</td>\n",
       "      <td>-1.203440</td>\n",
       "      <td>1.0</td>\n",
       "      <td>-1.478274</td>\n",
       "      <td>1.0</td>\n",
       "      <td>NaN</td>\n",
       "      <td>NaN</td>\n",
       "    </tr>\n",
       "    <tr>\n",
       "      <th>4</th>\n",
       "      <td>1.0</td>\n",
       "      <td>4.0</td>\n",
       "      <td>3.0</td>\n",
       "      <td>1.0</td>\n",
       "      <td>4.0</td>\n",
       "      <td>3.0</td>\n",
       "      <td>117.0</td>\n",
       "      <td>14.0</td>\n",
       "      <td>2.0</td>\n",
       "      <td>2013.0</td>\n",
       "      <td>...</td>\n",
       "      <td>0.0</td>\n",
       "      <td>2.0</td>\n",
       "      <td>1.0</td>\n",
       "      <td>0.468799</td>\n",
       "      <td>-1.203440</td>\n",
       "      <td>1.0</td>\n",
       "      <td>-1.478274</td>\n",
       "      <td>1.0</td>\n",
       "      <td>NaN</td>\n",
       "      <td>NaN</td>\n",
       "    </tr>\n",
       "  </tbody>\n",
       "</table>\n",
       "<p>5 rows × 235 columns</p>\n",
       "</div>"
      ],
      "text/plain": [
       "   Cluster number  Household number  Line number  Cluster number  \\\n",
       "0             1.0               1.0          2.0             1.0   \n",
       "1             1.0               2.0          2.0             1.0   \n",
       "2             1.0               3.0          2.0             1.0   \n",
       "3             1.0               4.0          2.0             1.0   \n",
       "4             1.0               4.0          3.0             1.0   \n",
       "\n",
       "   Household number  Woman's line number  Interviewer number  \\\n",
       "0               1.0                  2.0               117.0   \n",
       "1               2.0                  2.0               117.0   \n",
       "2               3.0                  2.0               117.0   \n",
       "3               4.0                  2.0               117.0   \n",
       "4               4.0                  3.0               117.0   \n",
       "\n",
       "   Day of interview  Month of interview  Year of interview  \\\n",
       "0              14.0                 2.0             2013.0   \n",
       "1              14.0                 2.0             2013.0   \n",
       "2              14.0                 2.0             2013.0   \n",
       "3              14.0                 2.0             2013.0   \n",
       "4              14.0                 2.0             2013.0   \n",
       "\n",
       "              ...               Children dead  Education  \\\n",
       "0             ...                         0.0        1.0   \n",
       "1             ...                         0.0        2.0   \n",
       "2             ...                         0.0        5.0   \n",
       "3             ...                         0.0        1.0   \n",
       "4             ...                         0.0        2.0   \n",
       "\n",
       "   Religion of household head  Women's sample weight  Combined wealth score  \\\n",
       "0                         1.0               0.468799              -0.588731   \n",
       "1                         1.0               0.468799               1.525888   \n",
       "2                         1.0               0.468799              -0.104456   \n",
       "3                         1.0               0.468799              -1.203440   \n",
       "4                         1.0               0.468799              -1.203440   \n",
       "\n",
       "   Wealth index quintile  Urban wealth score  Urban wealth index quintile  \\\n",
       "0                    2.0           -1.038469                          1.0   \n",
       "1                    5.0            0.474476                          3.0   \n",
       "2                    3.0           -0.691985                          2.0   \n",
       "3                    1.0           -1.478274                          1.0   \n",
       "4                    1.0           -1.478274                          1.0   \n",
       "\n",
       "   Rural wealth score  Rural wealth index quintile  \n",
       "0                 NaN                          NaN  \n",
       "1                 NaN                          NaN  \n",
       "2                 NaN                          NaN  \n",
       "3                 NaN                          NaN  \n",
       "4                 NaN                          NaN  \n",
       "\n",
       "[5 rows x 235 columns]"
      ]
     },
     "execution_count": 6,
     "metadata": {},
     "output_type": "execute_result"
    }
   ],
   "source": [
    "df2.head()\n",
    "# print(meta2.colum_names)\n",
    "# print(meta2.column_labels)\n",
    "# print(meta2.number_rows)\n",
    "# print(meta2.number_columns)\n",
    "# print(meta2.file_label)\n",
    "# print(meta2.file_encoding)\n",
    "# there are other metadata pieces extracted. See the documentation for more details."
   ]
  },
  {
   "cell_type": "code",
   "execution_count": 7,
   "metadata": {},
   "outputs": [
    {
     "name": "stdout",
     "output_type": "stream",
     "text": [
      "UTF-8\n"
     ]
    }
   ],
   "source": [
    "print(meta2.file_encoding)"
   ]
  },
  {
   "cell_type": "code",
   "execution_count": 8,
   "metadata": {},
   "outputs": [
    {
     "name": "stdout",
     "output_type": "stream",
     "text": [
      "<class 'pandas.core.frame.DataFrame'>\n",
      "RangeIndex: 59599 entries, 0 to 59598\n",
      "Columns: 235 entries, Cluster number to Rural wealth index quintile\n",
      "dtypes: float64(160), object(75)\n",
      "memory usage: 106.9+ MB\n"
     ]
    }
   ],
   "source": [
    "df2.info()"
   ]
  },
  {
   "cell_type": "markdown",
   "metadata": {},
   "source": [
    "#### Categorical (object) variables"
   ]
  },
  {
   "cell_type": "code",
   "execution_count": 9,
   "metadata": {},
   "outputs": [
    {
     "name": "stdout",
     "output_type": "stream",
     "text": [
      "<class 'pandas.core.frame.DataFrame'>\n",
      "RangeIndex: 59599 entries, 0 to 59598\n",
      "Data columns (total 75 columns):\n",
      "Last birth in last two years                                       59599 non-null object\n",
      "Antenatal care: Doctor                                             59599 non-null object\n",
      "Antenatal care: Nurse / Midwife                                    59599 non-null object\n",
      "Antenatal care: Auxiliary midwife                                  59599 non-null object\n",
      "Antenatal care: Traditional birth attendant                        59599 non-null object\n",
      "Antenatal care: Community health worker                            59599 non-null object\n",
      "Antenatal care: Other                                              59599 non-null object\n",
      "Assistance at delivery: Doctor                                     59599 non-null object\n",
      "Assistance at delivery: Nurse / Midwife                            59599 non-null object\n",
      "Assistance at delivery: Auxiliary midwife                          59599 non-null object\n",
      "Assistance at delivery: Traditional birth attendant                59599 non-null object\n",
      "Assistance at delivery: Community health worker                    59599 non-null object\n",
      "Assistance at delivery: Relative / Friend                          59599 non-null object\n",
      "Assistance at delivery: Other                                      59599 non-null object\n",
      "Assistance at delivery: No one                                     59599 non-null object\n",
      "Child given to drink - Milk (other than breast milk)               59599 non-null object\n",
      "Child given to drink - Plain water                                 59599 non-null object\n",
      "Child given to drink - Sugar or glucose water                      59599 non-null object\n",
      "Child given to drink - Gripe water                                 59599 non-null object\n",
      "Child given to drink - Sugar - salt - water solution               59599 non-null object\n",
      "Child given to drink - Fruit juice                                 59599 non-null object\n",
      "Child given to drink - Infant formula                              59599 non-null object\n",
      "Child given to drink - Tea / Infusions                             59599 non-null object\n",
      "Child given to drink - Honey                                       59599 non-null object\n",
      "Child given to drink - Other                                       59599 non-null object\n",
      "Person checking on baby's health: Doctor                           59599 non-null object\n",
      "Person checking on baby's health: Nurse / Midwife                  59599 non-null object\n",
      "Person checking on baby's health: Auxiliary midwife                59599 non-null object\n",
      "Person checking on baby's health: Traditional birth attendant      59599 non-null object\n",
      "Person checking on baby's health: Community health worker          59599 non-null object\n",
      "Person checking on baby's health: Relative / Friend                59599 non-null object\n",
      "Person checking on baby's health: Other                            59599 non-null object\n",
      "Person checking on mother's health: Doctor                         59599 non-null object\n",
      "Person checking on mother's health: Nurse / Midwife                59599 non-null object\n",
      "Person checking on mother's health: Auxiliary midwife              59599 non-null object\n",
      "Person checking on mother's health: Traditional birth attendant    59599 non-null object\n",
      "Person checking on mother's health: Community health worker        59599 non-null object\n",
      "Person checking on mother's health: Relative / Friend              59599 non-null object\n",
      "Person checking on mother's health: Other                          59599 non-null object\n",
      "Current method: Female sterilization                               59599 non-null object\n",
      "Current method: Male sterilization                                 59599 non-null object\n",
      "Current method: IUD                                                59599 non-null object\n",
      "Current method: Injectables                                        59599 non-null object\n",
      "Current method: Implants                                           59599 non-null object\n",
      "Current method: Pill                                               59599 non-null object\n",
      "Current method: Male condom                                        59599 non-null object\n",
      "Current method: Female condom                                      59599 non-null object\n",
      "Current method: Diaphragm                                          59599 non-null object\n",
      "Current method: Foam / Jelly                                       59599 non-null object\n",
      "Current method: Lactational amenorrhoea method                     59599 non-null object\n",
      "Current method: Periodic abstinence / Rhythm                       59599 non-null object\n",
      "Current method: Withdrawal                                         59599 non-null object\n",
      "Current method: Other                                              59599 non-null object\n",
      "Reason: Infrequent sex / No sex                                    59599 non-null object\n",
      "Reason: Menopausal                                                 59599 non-null object\n",
      "Reason: Never menstruated                                          59599 non-null object\n",
      "Reason: Hysterectomy                                               59599 non-null object\n",
      "Reason: Trying to get pregnant for 2 years without result          59599 non-null object\n",
      "Reason: Postpartum amenorrheic                                     59599 non-null object\n",
      "Reason: Breastfeeding                                              59599 non-null object\n",
      "Reason: Too old                                                    59599 non-null object\n",
      "Reason: Fatalistic                                                 59599 non-null object\n",
      "Reason: Other                                                      59599 non-null object\n",
      "Reason: Don't know                                                 59599 non-null object\n",
      "Symptoms: Child not able to drink or breastfeed                    59599 non-null object\n",
      "Symptoms: Child becomes sicker                                     59599 non-null object\n",
      "Symptoms: Child develops a fever                                   59599 non-null object\n",
      "Symptoms: Child has fast breathing                                 59599 non-null object\n",
      "Symptoms: Child has difficult breathing                            59599 non-null object\n",
      "Symptoms: Child has blood in stools                                59599 non-null object\n",
      "Symptoms: Child is drinking poorly                                 59599 non-null object\n",
      "Symptoms: Child has diarrhoea                                      59599 non-null object\n",
      "Symptoms: Other                                                    59599 non-null object\n",
      "Symptoms: Other                                                    59599 non-null object\n",
      "Symptoms: Other                                                    59599 non-null object\n",
      "dtypes: object(75)\n",
      "memory usage: 34.1+ MB\n"
     ]
    }
   ],
   "source": [
    "df2.select_dtypes(include='object').info()"
   ]
  },
  {
   "cell_type": "markdown",
   "metadata": {},
   "source": [
    "#### Missing data\n",
    "Code below calculates the percent of NaN data in each variable, but unfortunately it's not counting all the empty cells in variables of type object. See below. Apparently NaN only registers in numeric variables."
   ]
  },
  {
   "cell_type": "code",
   "execution_count": 66,
   "metadata": {},
   "outputs": [
    {
     "data": {
      "text/plain": [
       "Cluster number                 0.000000\n",
       "Household number               0.000000\n",
       "Line number                    0.000000\n",
       "Cluster number                 0.000000\n",
       "Household number               0.000000\n",
       "Woman's line number            0.000000\n",
       "Interviewer number             0.000000\n",
       "Day of interview               0.000000\n",
       "Month of interview             0.000000\n",
       "Year of interview              0.000000\n",
       "                                 ...   \n",
       "Children dead                  0.131009\n",
       "Education                      0.131009\n",
       "Religion of household head     0.000000\n",
       "Women's sample weight          0.000000\n",
       "Combined wealth score          0.000000\n",
       "Wealth index quintile          0.000000\n",
       "Urban wealth score             0.718804\n",
       "Urban wealth index quintile    0.718804\n",
       "Rural wealth score             0.150187\n",
       "Rural wealth index quintile    0.150187\n",
       "Length: 235, dtype: float64"
      ]
     },
     "execution_count": 66,
     "metadata": {},
     "output_type": "execute_result"
    }
   ],
   "source": [
    "# percent missing NaN\n",
    "(df2.shape[0]-df2.count())/59599"
   ]
  },
  {
   "cell_type": "code",
   "execution_count": 70,
   "metadata": {},
   "outputs": [
    {
     "data": {
      "text/plain": [
       "0.7188040067786372"
      ]
     },
     "execution_count": 70,
     "metadata": {},
     "output_type": "execute_result"
    }
   ],
   "source": [
    "np.count_nonzero(df2['Urban wealth score'].isnull())/59599\n"
   ]
  },
  {
   "cell_type": "markdown",
   "metadata": {},
   "source": [
    "#### Example numeric var\n",
    "NaNs are counted here."
   ]
  },
  {
   "cell_type": "code",
   "execution_count": 71,
   "metadata": {},
   "outputs": [
    {
     "data": {
      "text/plain": [
       "NaN          42840\n",
       " 0.000000     7808\n",
       " 2.249036        7\n",
       " 2.287165        6\n",
       " 1.176316        5\n",
       "Name: Urban wealth score, dtype: int64"
      ]
     },
     "execution_count": 71,
     "metadata": {},
     "output_type": "execute_result"
    }
   ],
   "source": [
    "df2['Urban wealth score'].value_counts(dropna=False).head()\n"
   ]
  },
  {
   "cell_type": "markdown",
   "metadata": {},
   "source": [
    "#### Example object var\n",
    "NaNs are blank or empty."
   ]
  },
  {
   "cell_type": "code",
   "execution_count": 72,
   "metadata": {},
   "outputs": [
    {
     "data": {
      "text/plain": [
       "     55609\n",
       "A     3988\n",
       "?        2\n",
       "Name: Antenatal care: Doctor, dtype: int64"
      ]
     },
     "execution_count": 72,
     "metadata": {},
     "output_type": "execute_result"
    }
   ],
   "source": [
    "df2['Antenatal care: Doctor'].value_counts(dropna=False)"
   ]
  },
  {
   "cell_type": "code",
   "execution_count": 10,
   "metadata": {},
   "outputs": [
    {
     "data": {
      "text/plain": [
       "67"
      ]
     },
     "execution_count": 10,
     "metadata": {},
     "output_type": "execute_result"
    }
   ],
   "source": [
    "# get a colunm index value\n",
    "df2.columns.get_loc('Antenatal care: Doctor')"
   ]
  },
  {
   "cell_type": "code",
   "execution_count": 11,
   "metadata": {},
   "outputs": [
    {
     "data": {
      "text/plain": [
       "     55609\n",
       "A     3988\n",
       "?        2\n",
       "Name: Antenatal care: Doctor, dtype: int64"
      ]
     },
     "execution_count": 11,
     "metadata": {},
     "output_type": "execute_result"
    }
   ],
   "source": [
    "df2.iloc[:,67].value_counts(dropna=False)"
   ]
  },
  {
   "cell_type": "code",
   "execution_count": 12,
   "metadata": {},
   "outputs": [
    {
     "data": {
      "text/html": [
       "<div>\n",
       "<style scoped>\n",
       "    .dataframe tbody tr th:only-of-type {\n",
       "        vertical-align: middle;\n",
       "    }\n",
       "\n",
       "    .dataframe tbody tr th {\n",
       "        vertical-align: top;\n",
       "    }\n",
       "\n",
       "    .dataframe thead th {\n",
       "        text-align: right;\n",
       "    }\n",
       "</style>\n",
       "<table border=\"1\" class=\"dataframe\">\n",
       "  <thead>\n",
       "    <tr style=\"text-align: right;\">\n",
       "      <th></th>\n",
       "      <th>Antenatal care: Doctor</th>\n",
       "      <th>Antenatal care: Nurse / Midwife</th>\n",
       "      <th>Antenatal care: Auxiliary midwife</th>\n",
       "      <th>Antenatal care: Traditional birth attendant</th>\n",
       "      <th>Antenatal care: Community health worker</th>\n",
       "      <th>Antenatal care: Other</th>\n",
       "    </tr>\n",
       "  </thead>\n",
       "  <tbody>\n",
       "    <tr>\n",
       "      <th>0</th>\n",
       "      <td></td>\n",
       "      <td></td>\n",
       "      <td></td>\n",
       "      <td></td>\n",
       "      <td></td>\n",
       "      <td></td>\n",
       "    </tr>\n",
       "    <tr>\n",
       "      <th>1</th>\n",
       "      <td></td>\n",
       "      <td></td>\n",
       "      <td></td>\n",
       "      <td></td>\n",
       "      <td></td>\n",
       "      <td></td>\n",
       "    </tr>\n",
       "    <tr>\n",
       "      <th>2</th>\n",
       "      <td></td>\n",
       "      <td></td>\n",
       "      <td></td>\n",
       "      <td></td>\n",
       "      <td></td>\n",
       "      <td></td>\n",
       "    </tr>\n",
       "    <tr>\n",
       "      <th>3</th>\n",
       "      <td></td>\n",
       "      <td></td>\n",
       "      <td></td>\n",
       "      <td></td>\n",
       "      <td></td>\n",
       "      <td></td>\n",
       "    </tr>\n",
       "    <tr>\n",
       "      <th>4</th>\n",
       "      <td></td>\n",
       "      <td></td>\n",
       "      <td></td>\n",
       "      <td></td>\n",
       "      <td></td>\n",
       "      <td></td>\n",
       "    </tr>\n",
       "  </tbody>\n",
       "</table>\n",
       "</div>"
      ],
      "text/plain": [
       "  Antenatal care: Doctor Antenatal care: Nurse / Midwife  \\\n",
       "0                                                          \n",
       "1                                                          \n",
       "2                                                          \n",
       "3                                                          \n",
       "4                                                          \n",
       "\n",
       "  Antenatal care: Auxiliary midwife  \\\n",
       "0                                     \n",
       "1                                     \n",
       "2                                     \n",
       "3                                     \n",
       "4                                     \n",
       "\n",
       "  Antenatal care: Traditional birth attendant  \\\n",
       "0                                               \n",
       "1                                               \n",
       "2                                               \n",
       "3                                               \n",
       "4                                               \n",
       "\n",
       "  Antenatal care: Community health worker Antenatal care: Other  \n",
       "0                                                                \n",
       "1                                                                \n",
       "2                                                                \n",
       "3                                                                \n",
       "4                                                                "
      ]
     },
     "execution_count": 12,
     "metadata": {},
     "output_type": "execute_result"
    }
   ],
   "source": [
    "# access multiple columns\n",
    "df2.iloc[:, 67:73].head()"
   ]
  },
  {
   "cell_type": "markdown",
   "metadata": {},
   "source": [
    "### Variables spread across multiple columns\n",
    "Another example: Information about some variables, like Antenatal Care, are spread across several columns. The type of caregiver before childbirth can be A, G, B, C, ? or F. "
   ]
  },
  {
   "cell_type": "code",
   "execution_count": 13,
   "metadata": {
    "collapsed": true
   },
   "outputs": [],
   "source": [
    "# melt Antenatal Care into one colum and count frequency of each.\n",
    "test_long = pd.melt(df2.iloc[:, 67:72],\n",
    "                    var_name='Antenatal care',\n",
    "                    value_name='Caregiver')"
   ]
  },
  {
   "cell_type": "code",
   "execution_count": 14,
   "metadata": {},
   "outputs": [
    {
     "data": {
      "text/plain": [
       "     292533\n",
       "A      3988\n",
       "G       718\n",
       "B       677\n",
       "C        48\n",
       "F        21\n",
       "?        10\n",
       "Name: Caregiver, dtype: int64"
      ]
     },
     "execution_count": 14,
     "metadata": {},
     "output_type": "execute_result"
    }
   ],
   "source": [
    "test_long['Caregiver'].value_counts(dropna=False)"
   ]
  },
  {
   "cell_type": "markdown",
   "metadata": {},
   "source": [
    "#### Second example: Assistance at delivery"
   ]
  },
  {
   "cell_type": "code",
   "execution_count": 15,
   "metadata": {},
   "outputs": [
    {
     "data": {
      "text/plain": [
       "83"
      ]
     },
     "execution_count": 15,
     "metadata": {},
     "output_type": "execute_result"
    }
   ],
   "source": [
    "# get column start index\n",
    "df2.columns.get_loc('Assistance at delivery: Doctor')"
   ]
  },
  {
   "cell_type": "code",
   "execution_count": 16,
   "metadata": {},
   "outputs": [
    {
     "data": {
      "text/html": [
       "<div>\n",
       "<style scoped>\n",
       "    .dataframe tbody tr th:only-of-type {\n",
       "        vertical-align: middle;\n",
       "    }\n",
       "\n",
       "    .dataframe tbody tr th {\n",
       "        vertical-align: top;\n",
       "    }\n",
       "\n",
       "    .dataframe thead th {\n",
       "        text-align: right;\n",
       "    }\n",
       "</style>\n",
       "<table border=\"1\" class=\"dataframe\">\n",
       "  <thead>\n",
       "    <tr style=\"text-align: right;\">\n",
       "      <th></th>\n",
       "      <th>Assistance at delivery: Doctor</th>\n",
       "      <th>Assistance at delivery: Nurse / Midwife</th>\n",
       "      <th>Assistance at delivery: Auxiliary midwife</th>\n",
       "      <th>Assistance at delivery: Traditional birth attendant</th>\n",
       "      <th>Assistance at delivery: Community health worker</th>\n",
       "      <th>Assistance at delivery: Relative / Friend</th>\n",
       "      <th>Assistance at delivery: Other</th>\n",
       "      <th>Assistance at delivery: No one</th>\n",
       "    </tr>\n",
       "  </thead>\n",
       "  <tbody>\n",
       "    <tr>\n",
       "      <th>0</th>\n",
       "      <td></td>\n",
       "      <td></td>\n",
       "      <td></td>\n",
       "      <td></td>\n",
       "      <td></td>\n",
       "      <td></td>\n",
       "      <td></td>\n",
       "      <td></td>\n",
       "    </tr>\n",
       "    <tr>\n",
       "      <th>1</th>\n",
       "      <td></td>\n",
       "      <td></td>\n",
       "      <td></td>\n",
       "      <td></td>\n",
       "      <td></td>\n",
       "      <td></td>\n",
       "      <td></td>\n",
       "      <td></td>\n",
       "    </tr>\n",
       "    <tr>\n",
       "      <th>2</th>\n",
       "      <td></td>\n",
       "      <td></td>\n",
       "      <td></td>\n",
       "      <td></td>\n",
       "      <td></td>\n",
       "      <td></td>\n",
       "      <td></td>\n",
       "      <td></td>\n",
       "    </tr>\n",
       "    <tr>\n",
       "      <th>3</th>\n",
       "      <td></td>\n",
       "      <td></td>\n",
       "      <td></td>\n",
       "      <td></td>\n",
       "      <td></td>\n",
       "      <td></td>\n",
       "      <td></td>\n",
       "      <td></td>\n",
       "    </tr>\n",
       "    <tr>\n",
       "      <th>4</th>\n",
       "      <td></td>\n",
       "      <td></td>\n",
       "      <td></td>\n",
       "      <td></td>\n",
       "      <td></td>\n",
       "      <td></td>\n",
       "      <td></td>\n",
       "      <td></td>\n",
       "    </tr>\n",
       "  </tbody>\n",
       "</table>\n",
       "</div>"
      ],
      "text/plain": [
       "  Assistance at delivery: Doctor Assistance at delivery: Nurse / Midwife  \\\n",
       "0                                                                          \n",
       "1                                                                          \n",
       "2                                                                          \n",
       "3                                                                          \n",
       "4                                                                          \n",
       "\n",
       "  Assistance at delivery: Auxiliary midwife  \\\n",
       "0                                             \n",
       "1                                             \n",
       "2                                             \n",
       "3                                             \n",
       "4                                             \n",
       "\n",
       "  Assistance at delivery: Traditional birth attendant  \\\n",
       "0                                                       \n",
       "1                                                       \n",
       "2                                                       \n",
       "3                                                       \n",
       "4                                                       \n",
       "\n",
       "  Assistance at delivery: Community health worker  \\\n",
       "0                                                   \n",
       "1                                                   \n",
       "2                                                   \n",
       "3                                                   \n",
       "4                                                   \n",
       "\n",
       "  Assistance at delivery: Relative / Friend Assistance at delivery: Other  \\\n",
       "0                                                                           \n",
       "1                                                                           \n",
       "2                                                                           \n",
       "3                                                                           \n",
       "4                                                                           \n",
       "\n",
       "  Assistance at delivery: No one  \n",
       "0                                 \n",
       "1                                 \n",
       "2                                 \n",
       "3                                 \n",
       "4                                 "
      ]
     },
     "execution_count": 16,
     "metadata": {},
     "output_type": "execute_result"
    }
   ],
   "source": [
    "# check results\n",
    "df2.iloc[:, 83:91].head()"
   ]
  },
  {
   "cell_type": "code",
   "execution_count": 17,
   "metadata": {
    "collapsed": true
   },
   "outputs": [],
   "source": [
    "# count frequencies for this var\n",
    "test_long2 = pd.melt(df2.iloc[:, 83:91],\n",
    "                    var_name='Assistance at delivery',\n",
    "                    value_name='Provider')"
   ]
  },
  {
   "cell_type": "code",
   "execution_count": 20,
   "metadata": {},
   "outputs": [
    {
     "data": {
      "text/plain": [
       "     465453\n",
       "H      3733\n",
       "A      2100\n",
       "F      2045\n",
       "B      1786\n",
       "C       723\n",
       "?       528\n",
       "X       244\n",
       "G       138\n",
       "Y        42\n",
       "Name: Provider, dtype: int64"
      ]
     },
     "execution_count": 20,
     "metadata": {},
     "output_type": "execute_result"
    }
   ],
   "source": [
    "test_long2['Provider'].value_counts(dropna=False)"
   ]
  },
  {
   "cell_type": "markdown",
   "metadata": {},
   "source": [
    "### Except that there are combined situations\n",
    "When multiple providers are present at delivery, there are combinations -- 63 different cases."
   ]
  },
  {
   "cell_type": "code",
   "execution_count": 21,
   "metadata": {},
   "outputs": [],
   "source": [
    "# concatenate values from multiple provider type columns\n",
    "col_cat = df2.iloc[:,83].str.cat(df2.iloc[:,84:91])"
   ]
  },
  {
   "cell_type": "code",
   "execution_count": 22,
   "metadata": {},
   "outputs": [
    {
     "data": {
      "text/plain": [
       "         51733\n",
       "H         2354\n",
       "F         1237\n",
       "AB         922\n",
       "A          654\n",
       "FH         606\n",
       "B          418\n",
       "C          354\n",
       "ABH        204\n",
       "CH         180\n",
       "         ...  \n",
       "ABCFG        1\n",
       "BCGH         1\n",
       "ABCG         1\n",
       "BHX          1\n",
       "BX           1\n",
       "ACFX         1\n",
       "BFG          1\n",
       "ACG          1\n",
       "ACGH         1\n",
       "AFGH         1\n",
       "Name: Assistance at delivery: Doctor, Length: 63, dtype: int64"
      ]
     },
     "execution_count": 22,
     "metadata": {},
     "output_type": "execute_result"
    }
   ],
   "source": [
    "col_cat.value_counts(dropna=False)"
   ]
  },
  {
   "cell_type": "code",
   "execution_count": null,
   "metadata": {
    "collapsed": true
   },
   "outputs": [],
   "source": []
  }
 ],
 "metadata": {
  "kernelspec": {
   "display_name": "Python 3",
   "language": "python",
   "name": "python3"
  },
  "language_info": {
   "codemirror_mode": {
    "name": "ipython",
    "version": 3
   },
   "file_extension": ".py",
   "mimetype": "text/x-python",
   "name": "python",
   "nbconvert_exporter": "python",
   "pygments_lexer": "ipython3",
   "version": "3.6.1"
  }
 },
 "nbformat": 4,
 "nbformat_minor": 2
}
